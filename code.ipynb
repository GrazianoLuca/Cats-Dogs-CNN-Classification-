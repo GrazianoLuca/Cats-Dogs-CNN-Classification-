{
  "cells": [
    {
      "cell_type": "code",
      "execution_count": 1,
      "metadata": {
        "id": "gK2CnPN-qVEF"
      },
      "outputs": [],
      "source": [
        "import scipy as scipy\n",
        "from multiprocessing import Queue\n",
        "import sklearn\n",
        "import pandas as pd\n",
        "import numpy as np\n",
        "import datetime\n",
        "from PIL import Image # to open images\n",
        "import os\n",
        "import tensorflow as tf\n",
        "from tensorflow import keras\n",
        "from keras.preprocessing.image import ImageDataGenerator\n",
        "from tensorflow.keras.models import Sequential\n",
        "from tensorflow.keras.layers import Dense, Dropout, Activation, Flatten, BatchNormalization\n",
        "from tensorflow.keras.layers import Conv2D, MaxPooling2D, AveragePooling2D\n",
        "from tensorflow.keras.callbacks import EarlyStopping, ModelCheckpoint\n",
        "import matplotlib.pyplot as plt\n",
        "import shutil\n",
        "from setup import loss_curve_plot, accuracy_curve_plot, pred_to_bin, build_controlDF, evaluate_model"
      ]
    },
    {
      "cell_type": "code",
      "execution_count": null,
      "metadata": {},
      "outputs": [],
      "source": [
        "# Get path \n",
        "path = os.getcwd() "
      ]
    },
    {
      "cell_type": "code",
      "execution_count": 3,
      "metadata": {},
      "outputs": [],
      "source": [
        "# Rename all files to define cats \n",
        "\n",
        "for f in os.listdir(path + \"\\\\cats\"):\n",
        "    os.rename(os.path.join((path + \"\\\\cats\"), f), os.path.join((path + \"\\\\cats\"), (\"C_\" + f)))\n",
        "\n",
        "# Rename all dogs files \n",
        "\n",
        "for f in os.listdir(path + \"\\\\dogs\"):\n",
        "    os.rename(os.path.join((path + \"\\\\dogs\"), f), os.path.join((path + \"\\\\dogs\"), (\"D_\" + f)))"
      ]
    },
    {
      "cell_type": "code",
      "execution_count": null,
      "metadata": {},
      "outputs": [],
      "source": [
        "# Compute numbers to separate in train and test data (.75 and .25 respectively)\n",
        "\n",
        "num_cats = len([f for f in os.listdir(path + \"\\\\cats\")if os.path.isfile(os.path.join(path + \"\\\\cats\", f))])\n",
        "num_dogs = len([f for f in os.listdir(path + \"\\\\dogs\")if os.path.isfile(os.path.join(path + \"\\\\dogs\", f))])\n",
        "\n",
        "num_train_cats = int(num_cats * 0.75)\n",
        "num_train_dogs = int(num_dogs * 0.75)\n",
        "cap = 100000000  # used to set a limit on the size of the whole dataset. Used to tweak models with smaller dataset for faster computation"
      ]
    },
    {
      "cell_type": "code",
      "execution_count": null,
      "metadata": {},
      "outputs": [],
      "source": [
        "# Moving images from respective folders to train and test\n",
        "\n",
        "source = path + \"\\\\cats\"\n",
        "\n",
        "# Create train and test directories\n",
        "\n",
        "\n",
        "shutil.rmtree(path + \"\\\\train\", ignore_errors=False, onerror=None)\n",
        "shutil.rmtree(path + \"\\\\test\", ignore_errors=False, onerror=None)\n",
        "os.mkdir(path + \"\\\\train\")\n",
        "os.mkdir(path + \"\\\\test\")\n",
        "\n",
        "# loop for copying cats\n",
        "\n",
        "for i,f in enumerate(os.listdir(source)):\n",
        "    if i <= cap:\n",
        "      src_path = os.path.join(source, f)\n",
        "\n",
        "      if i <= num_train_cats:\n",
        "          dst_path = path + \"\\\\train\"\n",
        "          shutil.copy(src_path, dst_path)\n",
        "      else:\n",
        "          dst_path = path + \"\\\\test\"\n",
        "          shutil.copy(src_path, dst_path)\n",
        "    else:\n",
        "      break\n",
        "\n",
        "# Loop for copying dogs\n",
        "\n",
        "source = path + \"\\\\dogs\"\n",
        "\n",
        "\n",
        "for i,f in enumerate(os.listdir(source)):\n",
        "    if i <= cap:\n",
        "      src_path = os.path.join(source, f)\n",
        "\n",
        "      if i <= num_train_cats:\n",
        "          dst_path = path + \"\\\\train\"\n",
        "          shutil.copy(src_path, dst_path)\n",
        "      else:\n",
        "          dst_path = path + \"\\\\test\"\n",
        "          shutil.copy(src_path, dst_path)\n",
        "    else:\n",
        "        break\n"
      ]
    },
    {
      "cell_type": "code",
      "execution_count": null,
      "metadata": {},
      "outputs": [
        {
          "name": "stderr",
          "output_type": "stream",
          "text": [
            "c:\\Users\\Luca\\AppData\\Local\\Programs\\Python\\Python39\\lib\\site-packages\\PIL\\TiffImagePlugin.py:822: UserWarning: Truncated File Read\n",
            "  warnings.warn(str(msg))\n"
          ]
        },
        {
          "name": "stdout",
          "output_type": "stream",
          "text": [
            "The number of corrupted images is: 2\n"
          ]
        }
      ],
      "source": [
        "# Find corrupted images and test\n",
        "\n",
        "from PIL import Image\n",
        "\n",
        "\n",
        "corrupted_images = []\n",
        "\n",
        "for f in os.listdir(path + \"\\\\train\\\\\"):\n",
        "    try:\n",
        "        Image.open(path + \"\\\\train\\\\\" + f).verify()\n",
        "    except:\n",
        "        corrupted_images.append(f)\n",
        "\n",
        "for f in os.listdir(path + \"\\\\test\\\\\"):\n",
        "    try:\n",
        "        Image.open(path + \"\\\\test\\\\\" + f).verify()\n",
        "    except:\n",
        "        corrupted_images.append(f)\n",
        "        \n",
        "print(\"The number of corrupted images is: {}\".format(len(corrupted_images))) # Provides the number of corrupted images\n"
      ]
    },
    {
      "cell_type": "code",
      "execution_count": null,
      "metadata": {},
      "outputs": [],
      "source": [
        "# Loop for corrupted image removal\n",
        "\n",
        "for f in os.listdir(path + \"\\\\train\"):\n",
        "    if f in corrupted_images:\n",
        "            os.remove(os.path.join(path + \"\\\\train\\\\\" + f))\n",
        "            \n",
        "for f in os.listdir(path + \"\\\\test\"):\n",
        "    if f in corrupted_images:\n",
        "            os.remove(os.path.join(path + \"\\\\test\\\\\" + f))"
      ]
    },
    {
      "cell_type": "code",
      "execution_count": null,
      "metadata": {
        "id": "mFdtmlbI99oo"
      },
      "outputs": [],
      "source": [
        "# Build dataframe for flow from dataframe function\n",
        "\n",
        "# Train\n",
        "train_arr = []\n",
        "for img in os.listdir(\"./train/\"):\n",
        "  train_arr.append((img, img[0])) \n",
        "\n",
        "train_df = pd.DataFrame(train_arr, columns = [\"id\", \"label\"])\n",
        "\n",
        "# Test\n",
        "test_arr = []\n",
        "true_y = []\n",
        "for img in os.listdir(\"./test\"):\n",
        "  test_arr.append(img) # No labels required for testing\n",
        "  true_y.append((img, img[0])) \n",
        "\n",
        "test_df = pd.DataFrame(test_arr, columns = [\"id\"])\n",
        "control_df = pd.DataFrame(true_y, columns = [\"id\", \"true_label\"])\n",
        "\n",
        "# Build a comparison frame to store all model result metrics\n",
        "\n",
        "comparison_frame = pd.DataFrame(columns=[\"Accuracy\", \"F1_Score\", \"Precision\", \"Recall\", \"Roc Score\"])\n",
        "comparison_frame.index.name = \"Model\""
      ]
    },
    {
      "cell_type": "code",
      "execution_count": 58,
      "metadata": {
        "colab": {
          "base_uri": "https://localhost:8080/"
        },
        "id": "y3rbMoh_9_NO",
        "outputId": "be73752f-d665-4a1a-d9ea-e709d9232359"
      },
      "outputs": [
        {
          "name": "stdout",
          "output_type": "stream",
          "text": [
            "Found 15000 validated image filenames belonging to 2 classes.\n",
            "Found 3750 validated image filenames belonging to 2 classes.\n",
            "Found 6248 validated image filenames.\n"
          ]
        }
      ],
      "source": [
        "# Setup generator\n",
        "\n",
        "image_size = (180,180,3)\n",
        "image_generator = ImageDataGenerator(rescale=1/255, validation_split=0.2) # rescaling data to 0 and 1, 1/255 due to the fact that it is RGB data\n",
        "\n",
        "# Flow from dataframe function setup\n",
        "\n",
        "train_generator = image_generator.flow_from_dataframe(\n",
        "                                            dataframe=train_df,\n",
        "                                            directory=\"./train\",\n",
        "                                            x_col=\"id\",\n",
        "                                            y_col=\"label\",\n",
        "                                            subset=\"training\",\n",
        "                                            batch_size=40,\n",
        "                                            seed=42,\n",
        "                                            shuffle=True,\n",
        "                                            class_mode=\"binary\",\n",
        "                                            target_size=image_size[0:2],\n",
        "                                            color_mode=\"rgb\")\n",
        "\n",
        "valid_generator=image_generator.flow_from_dataframe(\n",
        "                                                    dataframe=train_df,\n",
        "                                                    directory=\"./train\",\n",
        "                                                    x_col=\"id\",\n",
        "                                                    y_col=\"label\",\n",
        "                                                    subset=\"validation\",\n",
        "                                                    batch_size=20,\n",
        "                                                    seed=42,\n",
        "                                                    shuffle=True,\n",
        "                                                    class_mode=\"binary\",\n",
        "                                                    target_size=image_size[0:2],\n",
        "                                                    color_mode=\"rgb\")\n",
        "\n",
        "test_image_generator = ImageDataGenerator(rescale=1/255)\n",
        "\n",
        "test_generator=test_image_generator.flow_from_dataframe(\n",
        "                                                    dataframe=test_df,\n",
        "                                                    directory=\"./test\",\n",
        "                                                    x_col=\"id\",\n",
        "                                                    y_col=None,\n",
        "                                                    batch_size=25,\n",
        "                                                    seed=42,\n",
        "                                                    shuffle=False,\n",
        "                                                    class_mode=None,\n",
        "                                                    target_size=image_size[0:2],\n",
        "                                                    color_mode=\"rgb\")"
      ]
    },
    {
      "attachments": {},
      "cell_type": "markdown",
      "metadata": {},
      "source": [
        "### Model RMS"
      ]
    },
    {
      "cell_type": "code",
      "execution_count": 59,
      "metadata": {},
      "outputs": [
        {
          "name": "stdout",
          "output_type": "stream",
          "text": [
            "Model: \"sequential_7\"\n",
            "_________________________________________________________________\n",
            " Layer (type)                Output Shape              Param #   \n",
            "=================================================================\n",
            " conv2d_224 (Conv2D)         (None, 98, 98, 32)        896       \n",
            "                                                                 \n",
            " activation_225 (Activation)  (None, 98, 98, 32)       0         \n",
            "                                                                 \n",
            " max_pooling2d_24 (MaxPoolin  (None, 49, 49, 32)       0         \n",
            " g2D)                                                            \n",
            "                                                                 \n",
            " flatten_15 (Flatten)        (None, 76832)             0         \n",
            "                                                                 \n",
            " dense_21 (Dense)            (None, 256)               19669248  \n",
            "                                                                 \n",
            " activation_226 (Activation)  (None, 256)              0         \n",
            "                                                                 \n",
            " dense_22 (Dense)            (None, 1)                 257       \n",
            "                                                                 \n",
            " activation_227 (Activation)  (None, 1)                0         \n",
            "                                                                 \n",
            "=================================================================\n",
            "Total params: 19,670,401\n",
            "Trainable params: 19,670,401\n",
            "Non-trainable params: 0\n",
            "_________________________________________________________________\n"
          ]
        }
      ],
      "source": [
        "# First model with one basic convolutional layer a small dense layer, no overfitting prevention techniques\n",
        "model_RMS = Sequential()\n",
        "\n",
        "model_RMS.add(Conv2D(32, (3, 3), input_shape = image_size))  #Basic convolutional for low level feature detection\n",
        "model_RMS.add(Activation('relu'))\n",
        "model_RMS.add(MaxPooling2D(pool_size=(2, 2)))  # Focus on important features\n",
        "\n",
        "model_RMS.add(Flatten())\n",
        "model_RMS.add(Dense(256))\n",
        "model_RMS.add(Activation('relu'))\n",
        "\n",
        "model_RMS.add(Dense(1))\n",
        "model_RMS.add(Activation('sigmoid'))\n",
        "\n",
        "model_RMS.summary()\n",
        "\n",
        "# Compile model\n",
        "\n",
        "model_RMS.compile(loss='binary_crossentropy',\n",
        "              optimizer='RMSprop',\n",
        "              metrics=['accuracy'])"
      ]
    },
    {
      "cell_type": "code",
      "execution_count": 60,
      "metadata": {},
      "outputs": [
        {
          "name": "stdout",
          "output_type": "stream",
          "text": [
            "Epoch 1/8\n",
            "375/375 [==============================] - ETA: 0s - loss: 0.7201 - accuracy: 0.6583\n",
            "Epoch 1: val_accuracy improved from -inf to 0.46667, saving model to Model6\n"
          ]
        },
        {
          "name": "stderr",
          "output_type": "stream",
          "text": [
            "WARNING:absl:Found untraced functions such as _jit_compiled_convolution_op, _update_step_xla while saving (showing 2 of 2). These functions will not be directly callable after loading.\n"
          ]
        },
        {
          "name": "stdout",
          "output_type": "stream",
          "text": [
            "INFO:tensorflow:Assets written to: Model6\\assets\n"
          ]
        },
        {
          "name": "stderr",
          "output_type": "stream",
          "text": [
            "INFO:tensorflow:Assets written to: Model6\\assets\n"
          ]
        },
        {
          "name": "stdout",
          "output_type": "stream",
          "text": [
            "375/375 [==============================] - 447s 1s/step - loss: 0.7201 - accuracy: 0.6583 - val_loss: 0.7898 - val_accuracy: 0.4667\n",
            "Epoch 2/8\n",
            "375/375 [==============================] - ETA: 0s - loss: 0.5133 - accuracy: 0.7475\n",
            "Epoch 2: val_accuracy did not improve from 0.46667\n",
            "375/375 [==============================] - 260s 693ms/step - loss: 0.5133 - accuracy: 0.7475 - val_loss: 0.9960 - val_accuracy: 0.3517\n",
            "Epoch 3/8\n",
            "375/375 [==============================] - ETA: 0s - loss: 0.4529 - accuracy: 0.7875\n",
            "Epoch 3: val_accuracy improved from 0.46667 to 0.67627, saving model to Model6\n"
          ]
        },
        {
          "name": "stderr",
          "output_type": "stream",
          "text": [
            "WARNING:absl:Found untraced functions such as _jit_compiled_convolution_op, _update_step_xla while saving (showing 2 of 2). These functions will not be directly callable after loading.\n"
          ]
        },
        {
          "name": "stdout",
          "output_type": "stream",
          "text": [
            "INFO:tensorflow:Assets written to: Model6\\assets\n"
          ]
        },
        {
          "name": "stderr",
          "output_type": "stream",
          "text": [
            "INFO:tensorflow:Assets written to: Model6\\assets\n"
          ]
        },
        {
          "name": "stdout",
          "output_type": "stream",
          "text": [
            "375/375 [==============================] - 323s 861ms/step - loss: 0.4529 - accuracy: 0.7875 - val_loss: 0.6419 - val_accuracy: 0.6763\n",
            "Epoch 4/8\n",
            "375/375 [==============================] - ETA: 0s - loss: 0.3961 - accuracy: 0.8173\n",
            "Epoch 4: val_accuracy improved from 0.67627 to 0.75787, saving model to Model6\n"
          ]
        },
        {
          "name": "stderr",
          "output_type": "stream",
          "text": [
            "WARNING:absl:Found untraced functions such as _jit_compiled_convolution_op, _update_step_xla while saving (showing 2 of 2). These functions will not be directly callable after loading.\n"
          ]
        },
        {
          "name": "stdout",
          "output_type": "stream",
          "text": [
            "INFO:tensorflow:Assets written to: Model6\\assets\n"
          ]
        },
        {
          "name": "stderr",
          "output_type": "stream",
          "text": [
            "INFO:tensorflow:Assets written to: Model6\\assets\n"
          ]
        },
        {
          "name": "stdout",
          "output_type": "stream",
          "text": [
            "375/375 [==============================] - 400s 1s/step - loss: 0.3961 - accuracy: 0.8173 - val_loss: 0.5330 - val_accuracy: 0.7579\n",
            "Epoch 5/8\n",
            "375/375 [==============================] - ETA: 0s - loss: 0.3451 - accuracy: 0.8493\n",
            "Epoch 5: val_accuracy did not improve from 0.75787\n",
            "375/375 [==============================] - 490s 1s/step - loss: 0.3451 - accuracy: 0.8493 - val_loss: 0.7501 - val_accuracy: 0.6616\n",
            "Epoch 6/8\n",
            "375/375 [==============================] - ETA: 0s - loss: 0.2711 - accuracy: 0.8881\n",
            "Epoch 6: val_accuracy did not improve from 0.75787\n",
            "375/375 [==============================] - 255s 680ms/step - loss: 0.2711 - accuracy: 0.8881 - val_loss: 0.8300 - val_accuracy: 0.6427\n",
            "Epoch 7/8\n",
            "375/375 [==============================] - ETA: 0s - loss: 0.2065 - accuracy: 0.9210\n",
            "Epoch 7: val_accuracy did not improve from 0.75787\n",
            "375/375 [==============================] - 250s 666ms/step - loss: 0.2065 - accuracy: 0.9210 - val_loss: 1.1763 - val_accuracy: 0.5749\n"
          ]
        }
      ],
      "source": [
        "# Model fit\n",
        "\n",
        "callback = tf.keras.callbacks.EarlyStopping(monitor='val_accuracy', patience=3)\n",
        "model_RMS_checkpoint = ModelCheckpoint(\"ModelRMS\", monitor=\"val_accuracy\", verbose=1, save_best_only=True, mode=\"max\")\n",
        "\n",
        "model_RMS_fit =  model_RMS.fit(train_generator,\n",
        "            validation_data=valid_generator,\n",
        "            epochs = 8, \n",
        "            use_multiprocessing=False, \n",
        "            verbose = 1,\n",
        "            callbacks=[callback, model_RMS_checkpoint]\n",
        ")"
      ]
    },
    {
      "cell_type": "code",
      "execution_count": 61,
      "metadata": {},
      "outputs": [
        {
          "data": {
            "image/png": "[encoded data removed]",
            "text/plain": [
              "<Figure size 432x288 with 1 Axes>"
            ]
          },
          "metadata": {},
          "output_type": "display_data"
        },
        {
          "data": {
            "image/png": "[encoded data removed]",
            "text/plain": [
              "<Figure size 432x288 with 1 Axes>"
            ]
          },
          "metadata": {},
          "output_type": "display_data"
        }
      ],
      "source": [
        "# Plots\n",
        "loss_curve_plot(model_RMS_fit)\n",
        "accuracy_curve_plot(model_RMS_fit)"
      ]
    },
    {
      "cell_type": "code",
      "execution_count": 62,
      "metadata": {},
      "outputs": [
        {
          "name": "stdout",
          "output_type": "stream",
          "text": [
            "188/188 [==============================] - 54s 283ms/step - loss: 1.1763 - accuracy: 0.5749\n"
          ]
        },
        {
          "data": {
            "text/plain": [
              "[1.1762982606887817, 0.5749333500862122]"
            ]
          },
          "execution_count": 62,
          "metadata": {},
          "output_type": "execute_result"
        }
      ],
      "source": [
        "# Model evaluation\n",
        "\n",
        "model_RMS.evaluate(valid_generator)"
      ]
    },
    {
      "cell_type": "code",
      "execution_count": 63,
      "metadata": {},
      "outputs": [
        {
          "name": "stdout",
          "output_type": "stream",
          "text": [
            "207/250 [=======================>......] - ETA: 18s"
          ]
        },
        {
          "name": "stderr",
          "output_type": "stream",
          "text": [
            "c:\\Users\\Luca\\AppData\\Local\\Programs\\Python\\Python39\\lib\\site-packages\\PIL\\TiffImagePlugin.py:822: UserWarning: Truncated File Read\n",
            "  warnings.warn(str(msg))\n"
          ]
        },
        {
          "name": "stdout",
          "output_type": "stream",
          "text": [
            "250/250 [==============================] - 103s 413ms/step\n"
          ]
        }
      ],
      "source": [
        "# Build predictions\n",
        "\n",
        "predictions_RMS = model_RMS.predict(test_generator,\n",
        "                      verbose=1)"
      ]
    },
    {
      "cell_type": "code",
      "execution_count": 64,
      "metadata": {},
      "outputs": [],
      "source": [
        "# Transform model predictions' continuos output into binary categories\n",
        "\n",
        "bin_predictions_RMS = pred_to_bin(predictions_RMS)\n",
        "\n",
        "# Associate binary number to true_label\n",
        "\n",
        "control_df_RMS = build_controlDF(control_df, bin_predictions_RMS)\n"
      ]
    },
    {
      "cell_type": "code",
      "execution_count": 65,
      "metadata": {},
      "outputs": [
        {
          "data": {
            "text/html": [
              "<div>\n",
              "<style scoped>\n",
              "    .dataframe tbody tr th:only-of-type {\n",
              "        vertical-align: middle;\n",
              "    }\n",
              "\n",
              "    .dataframe tbody tr th {\n",
              "        vertical-align: top;\n",
              "    }\n",
              "\n",
              "    .dataframe thead th {\n",
              "        text-align: right;\n",
              "    }\n",
              "</style>\n",
              "<table border=\"1\" class=\"dataframe\">\n",
              "  <thead>\n",
              "    <tr style=\"text-align: right;\">\n",
              "      <th></th>\n",
              "      <th>Accuracy</th>\n",
              "      <th>F1_Score</th>\n",
              "      <th>Precision</th>\n",
              "      <th>Recall</th>\n",
              "      <th>Roc Score</th>\n",
              "    </tr>\n",
              "  </thead>\n",
              "  <tbody>\n",
              "    <tr>\n",
              "      <th>1</th>\n",
              "      <td>0.717990</td>\n",
              "      <td>0.714384</td>\n",
              "      <td>0.729583</td>\n",
              "      <td>0.717990</td>\n",
              "      <td>0.717990</td>\n",
              "    </tr>\n",
              "    <tr>\n",
              "      <th>2</th>\n",
              "      <td>0.801697</td>\n",
              "      <td>0.798160</td>\n",
              "      <td>0.824433</td>\n",
              "      <td>0.801697</td>\n",
              "      <td>0.801697</td>\n",
              "    </tr>\n",
              "    <tr>\n",
              "      <th>3</th>\n",
              "      <td>0.850352</td>\n",
              "      <td>0.850218</td>\n",
              "      <td>0.851612</td>\n",
              "      <td>0.850352</td>\n",
              "      <td>0.850352</td>\n",
              "    </tr>\n",
              "    <tr>\n",
              "      <th>4</th>\n",
              "      <td>0.494878</td>\n",
              "      <td>0.378043</td>\n",
              "      <td>0.479397</td>\n",
              "      <td>0.494878</td>\n",
              "      <td>0.494878</td>\n",
              "    </tr>\n",
              "    <tr>\n",
              "      <th>5</th>\n",
              "      <td>0.839309</td>\n",
              "      <td>0.839208</td>\n",
              "      <td>0.840157</td>\n",
              "      <td>0.839309</td>\n",
              "      <td>0.839309</td>\n",
              "    </tr>\n",
              "    <tr>\n",
              "      <th>6</th>\n",
              "      <td>0.712868</td>\n",
              "      <td>0.706701</td>\n",
              "      <td>0.732416</td>\n",
              "      <td>0.712868</td>\n",
              "      <td>0.712868</td>\n",
              "    </tr>\n",
              "  </tbody>\n",
              "</table>\n",
              "</div>"
            ],
            "text/plain": [
              "   Accuracy  F1_Score  Precision    Recall  Roc Score\n",
              "1  0.717990  0.714384   0.729583  0.717990   0.717990\n",
              "2  0.801697  0.798160   0.824433  0.801697   0.801697\n",
              "3  0.850352  0.850218   0.851612  0.850352   0.850352\n",
              "4  0.494878  0.378043   0.479397  0.494878   0.494878\n",
              "5  0.839309  0.839208   0.840157  0.839309   0.839309\n",
              "6  0.712868  0.706701   0.732416  0.712868   0.712868"
            ]
          },
          "execution_count": 65,
          "metadata": {},
          "output_type": "execute_result"
        }
      ],
      "source": [
        "# Store model 1 metrics in the comparison frame\n",
        "\n",
        "comparison_frame.loc[\"RMS\"] = evaluate_model(control_df_RMS.true_bin, control_df_RMS.prediction_binary)\n",
        "comparison_frame"
      ]
    },
    {
      "attachments": {},
      "cell_type": "markdown",
      "metadata": {},
      "source": [
        "### Model ADAM"
      ]
    },
    {
      "cell_type": "code",
      "execution_count": 10,
      "metadata": {
        "colab": {
          "base_uri": "https://localhost:8080/"
        },
        "id": "Xr7QC6cKKFZF",
        "outputId": "6efa7b9d-8a3b-4de8-eada-913cb293d4ab"
      },
      "outputs": [
        {
          "name": "stdout",
          "output_type": "stream",
          "text": [
            "Model: \"sequential\"\n",
            "_________________________________________________________________\n",
            " Layer (type)                Output Shape              Param #   \n",
            "=================================================================\n",
            " conv2d (Conv2D)             (None, 98, 98, 32)        896       \n",
            "                                                                 \n",
            " activation (Activation)     (None, 98, 98, 32)        0         \n",
            "                                                                 \n",
            " max_pooling2d (MaxPooling2D  (None, 49, 49, 32)       0         \n",
            " )                                                               \n",
            "                                                                 \n",
            " flatten (Flatten)           (None, 76832)             0         \n",
            "                                                                 \n",
            " dense (Dense)               (None, 256)               19669248  \n",
            "                                                                 \n",
            " activation_1 (Activation)   (None, 256)               0         \n",
            "                                                                 \n",
            " dense_1 (Dense)             (None, 1)                 257       \n",
            "                                                                 \n",
            " activation_2 (Activation)   (None, 1)                 0         \n",
            "                                                                 \n",
            "=================================================================\n",
            "Total params: 19,670,401\n",
            "Trainable params: 19,670,401\n",
            "Non-trainable params: 0\n",
            "_________________________________________________________________\n"
          ]
        }
      ],
      "source": [
        "# First model with one basic convolutional layer\n",
        "model_adam = Sequential()\n",
        "\n",
        "model_adam.add(Conv2D(32, (3, 3), input_shape = image_size))  #Basic convolutional for low level feature detection\n",
        "model_adam.add(Activation('relu'))\n",
        "model_adam.add(MaxPooling2D(pool_size=(2, 2)))  # Focus on important features\n",
        "\n",
        "model_adam.add(Flatten())\n",
        "model_adam.add(Dense(256))\n",
        "model_adam.add(Activation('relu'))\n",
        "\n",
        "model_adam.add(Dense(1))\n",
        "model_adam.add(Activation('sigmoid'))\n",
        "\n",
        "model_adam.summary()\n",
        "\n",
        "# Compile model\n",
        "\n",
        "model_adam.compile(loss='binary_crossentropy',\n",
        "              optimizer='adam',\n",
        "              metrics=['accuracy'])"
      ]
    },
    {
      "cell_type": "code",
      "execution_count": 11,
      "metadata": {
        "colab": {
          "base_uri": "https://localhost:8080/"
        },
        "id": "OqPvC1i5AAF2",
        "outputId": "0fffe2f7-5d91-4807-95ea-9f943de79259"
      },
      "outputs": [
        {
          "name": "stdout",
          "output_type": "stream",
          "text": [
            "Epoch 1/8\n",
            "375/375 [==============================] - ETA: 0s - loss: 0.5995 - accuracy: 0.6982\n",
            "Epoch 1: val_accuracy improved from -inf to 0.38480, saving model to Model1\n"
          ]
        },
        {
          "name": "stderr",
          "output_type": "stream",
          "text": [
            "WARNING:absl:Found untraced functions such as _jit_compiled_convolution_op, _update_step_xla while saving (showing 2 of 2). These functions will not be directly callable after loading.\n"
          ]
        },
        {
          "name": "stdout",
          "output_type": "stream",
          "text": [
            "INFO:tensorflow:Assets written to: Model1\\assets\n"
          ]
        },
        {
          "name": "stderr",
          "output_type": "stream",
          "text": [
            "INFO:tensorflow:Assets written to: Model1\\assets\n"
          ]
        },
        {
          "name": "stdout",
          "output_type": "stream",
          "text": [
            "375/375 [==============================] - 526s 1s/step - loss: 0.5995 - accuracy: 0.6982 - val_loss: 0.8838 - val_accuracy: 0.3848\n",
            "Epoch 2/8\n",
            "375/375 [==============================] - ETA: 0s - loss: 0.4447 - accuracy: 0.7932\n",
            "Epoch 2: val_accuracy improved from 0.38480 to 0.72187, saving model to Model1\n"
          ]
        },
        {
          "name": "stderr",
          "output_type": "stream",
          "text": [
            "WARNING:absl:Found untraced functions such as _jit_compiled_convolution_op, _update_step_xla while saving (showing 2 of 2). These functions will not be directly callable after loading.\n"
          ]
        },
        {
          "name": "stdout",
          "output_type": "stream",
          "text": [
            "INFO:tensorflow:Assets written to: Model1\\assets\n"
          ]
        },
        {
          "name": "stderr",
          "output_type": "stream",
          "text": [
            "INFO:tensorflow:Assets written to: Model1\\assets\n"
          ]
        },
        {
          "name": "stdout",
          "output_type": "stream",
          "text": [
            "375/375 [==============================] - 342s 913ms/step - loss: 0.4447 - accuracy: 0.7932 - val_loss: 0.6037 - val_accuracy: 0.7219\n",
            "Epoch 3/8\n",
            "375/375 [==============================] - ETA: 0s - loss: 0.3374 - accuracy: 0.8492\n",
            "Epoch 3: val_accuracy did not improve from 0.72187\n",
            "375/375 [==============================] - 345s 917ms/step - loss: 0.3374 - accuracy: 0.8492 - val_loss: 1.0089 - val_accuracy: 0.5723\n",
            "Epoch 4/8\n",
            "375/375 [==============================] - ETA: 0s - loss: 0.2207 - accuracy: 0.9098\n",
            "Epoch 4: val_accuracy did not improve from 0.72187\n",
            "375/375 [==============================] - 299s 798ms/step - loss: 0.2207 - accuracy: 0.9098 - val_loss: 0.9445 - val_accuracy: 0.6691\n",
            "Epoch 5/8\n",
            "375/375 [==============================] - ETA: 0s - loss: 0.1187 - accuracy: 0.9587\n",
            "Epoch 5: val_accuracy did not improve from 0.72187\n",
            "375/375 [==============================] - 340s 908ms/step - loss: 0.1187 - accuracy: 0.9587 - val_loss: 1.4526 - val_accuracy: 0.6059\n"
          ]
        }
      ],
      "source": [
        "# Model fit\n",
        "\n",
        "callback = tf.keras.callbacks.EarlyStopping(monitor='val_accuracy', patience=3)\n",
        "model_adam_checkpoint = ModelCheckpoint(\"model_adam\", monitor=\"val_accuracy\", verbose=1, save_best_only=True, mode=\"max\")\n",
        "\n",
        "model_adam_fit =  model_adam.fit(train_generator,\n",
        "            validation_data=valid_generator,\n",
        "            epochs = 8, \n",
        "            use_multiprocessing=False, \n",
        "            verbose = 1,\n",
        "            callbacks=[callback, model_adam_checkpoint]\n",
        ")"
      ]
    },
    {
      "cell_type": "code",
      "execution_count": 12,
      "metadata": {
        "colab": {
          "base_uri": "https://localhost:8080/",
          "height": 581
        },
        "id": "w7Jsr4tiLKB1",
        "outputId": "df483b7e-0d40-4904-8645-2e13e150ecc0"
      },
      "outputs": [
        {
          "data": {
            "image/png": "[encoded data removed]",
            "text/plain": [
              "<Figure size 432x288 with 1 Axes>"
            ]
          },
          "metadata": {},
          "output_type": "display_data"
        },
        {
          "data": {
            "image/png": "[encoded data removed]",
            "text/plain": [
              "<Figure size 432x288 with 1 Axes>"
            ]
          },
          "metadata": {},
          "output_type": "display_data"
        }
      ],
      "source": [
        "# Loss and visualisation curve visualisation \n",
        "loss_curve_plot(model_adam_fit)\n",
        "accuracy_curve_plot(model_adam_fit)"
      ]
    },
    {
      "cell_type": "code",
      "execution_count": 13,
      "metadata": {
        "colab": {
          "base_uri": "https://localhost:8080/"
        },
        "id": "vmFaFWtcEsh8",
        "outputId": "10760423-fd32-4424-f502-eff9328dd145"
      },
      "outputs": [
        {
          "name": "stdout",
          "output_type": "stream",
          "text": [
            "188/188 [==============================] - 19s 102ms/step - loss: 1.4526 - accuracy: 0.6059\n"
          ]
        },
        {
          "data": {
            "text/plain": [
              "[1.4525974988937378, 0.6058666706085205]"
            ]
          },
          "execution_count": 13,
          "metadata": {},
          "output_type": "execute_result"
        }
      ],
      "source": [
        "# Model evaluation\n",
        "\n",
        "model_adam.evaluate(valid_generator)"
      ]
    },
    {
      "cell_type": "code",
      "execution_count": 14,
      "metadata": {
        "colab": {
          "base_uri": "https://localhost:8080/"
        },
        "id": "GsUdUkMQE5NH",
        "outputId": "097ef369-0f35-48f9-9d8d-ce7aac9954dc"
      },
      "outputs": [
        {
          "name": "stdout",
          "output_type": "stream",
          "text": [
            "207/250 [=======================>......] - ETA: 18s"
          ]
        },
        {
          "name": "stderr",
          "output_type": "stream",
          "text": [
            "c:\\Users\\Luca\\AppData\\Local\\Programs\\Python\\Python39\\lib\\site-packages\\PIL\\TiffImagePlugin.py:822: UserWarning: Truncated File Read\n",
            "  warnings.warn(str(msg))\n"
          ]
        },
        {
          "name": "stdout",
          "output_type": "stream",
          "text": [
            "250/250 [==============================] - 117s 463ms/step\n"
          ]
        }
      ],
      "source": [
        "# Build predictions\n",
        "\n",
        "predictions_adam = model_adam.predict(test_generator,\n",
        "                      verbose=1)"
      ]
    },
    {
      "cell_type": "code",
      "execution_count": 16,
      "metadata": {
        "id": "zBxiOZO6wR24"
      },
      "outputs": [],
      "source": [
        "# Transform model predictions' continuos output into binary categories\n",
        "\n",
        "bin_predictions_adam = pred_to_bin(predictions_adam)\n",
        "\n",
        "# Associate binary number to true_label\n",
        "\n",
        "control_df_adam = build_controlDF(control_df, bin_predictions_adam)\n"
      ]
    },
    {
      "cell_type": "code",
      "execution_count": 18,
      "metadata": {
        "id": "cLj5nkSeS1C9"
      },
      "outputs": [
        {
          "data": {
            "text/html": [
              "<div>\n",
              "<style scoped>\n",
              "    .dataframe tbody tr th:only-of-type {\n",
              "        vertical-align: middle;\n",
              "    }\n",
              "\n",
              "    .dataframe tbody tr th {\n",
              "        vertical-align: top;\n",
              "    }\n",
              "\n",
              "    .dataframe thead th {\n",
              "        text-align: right;\n",
              "    }\n",
              "</style>\n",
              "<table border=\"1\" class=\"dataframe\">\n",
              "  <thead>\n",
              "    <tr style=\"text-align: right;\">\n",
              "      <th></th>\n",
              "      <th>Accuracy</th>\n",
              "      <th>F1_Score</th>\n",
              "      <th>Precision</th>\n",
              "      <th>Recall</th>\n",
              "      <th>Roc Score</th>\n",
              "    </tr>\n",
              "  </thead>\n",
              "  <tbody>\n",
              "    <tr>\n",
              "      <th>1</th>\n",
              "      <td>0.71799</td>\n",
              "      <td>0.714384</td>\n",
              "      <td>0.729583</td>\n",
              "      <td>0.71799</td>\n",
              "      <td>0.71799</td>\n",
              "    </tr>\n",
              "  </tbody>\n",
              "</table>\n",
              "</div>"
            ],
            "text/plain": [
              "   Accuracy  F1_Score  Precision   Recall  Roc Score\n",
              "1   0.71799  0.714384   0.729583  0.71799    0.71799"
            ]
          },
          "execution_count": 18,
          "metadata": {},
          "output_type": "execute_result"
        }
      ],
      "source": [
        "# Store model 1 metrics in the comparison frame\n",
        "\n",
        "comparison_frame.loc[\"adam\"] = evaluate_model(control_df_adam.true_bin, control_df_adam.prediction_binary)\n",
        "comparison_frame"
      ]
    },
    {
      "attachments": {},
      "cell_type": "markdown",
      "metadata": {
        "id": "5HfTEQs_Gwsi"
      },
      "source": [
        "# Model 2"
      ]
    },
    {
      "cell_type": "code",
      "execution_count": 19,
      "metadata": {
        "colab": {
          "base_uri": "https://localhost:8080/"
        },
        "id": "YF14ySSpGvBD",
        "outputId": "a43b07f0-2b63-449b-cb43-c9ac60dfe265"
      },
      "outputs": [
        {
          "name": "stdout",
          "output_type": "stream",
          "text": [
            "Model: \"sequential_1\"\n",
            "_________________________________________________________________\n",
            " Layer (type)                Output Shape              Param #   \n",
            "=================================================================\n",
            " conv2d_1 (Conv2D)           (None, 98, 98, 32)        896       \n",
            "                                                                 \n",
            " activation_3 (Activation)   (None, 98, 98, 32)        0         \n",
            "                                                                 \n",
            " max_pooling2d_1 (MaxPooling  (None, 49, 49, 32)       0         \n",
            " 2D)                                                             \n",
            "                                                                 \n",
            " conv2d_2 (Conv2D)           (None, 47, 47, 64)        18496     \n",
            "                                                                 \n",
            " activation_4 (Activation)   (None, 47, 47, 64)        0         \n",
            "                                                                 \n",
            " max_pooling2d_2 (MaxPooling  (None, 23, 23, 64)       0         \n",
            " 2D)                                                             \n",
            "                                                                 \n",
            " conv2d_3 (Conv2D)           (None, 21, 21, 128)       73856     \n",
            "                                                                 \n",
            " activation_5 (Activation)   (None, 21, 21, 128)       0         \n",
            "                                                                 \n",
            " max_pooling2d_3 (MaxPooling  (None, 10, 10, 128)      0         \n",
            " 2D)                                                             \n",
            "                                                                 \n",
            " flatten_1 (Flatten)         (None, 12800)             0         \n",
            "                                                                 \n",
            " dense_2 (Dense)             (None, 256)               3277056   \n",
            "                                                                 \n",
            " flatten_2 (Flatten)         (None, 256)               0         \n",
            "                                                                 \n",
            " dense_3 (Dense)             (None, 512)               131584    \n",
            "                                                                 \n",
            " dense_4 (Dense)             (None, 1)                 513       \n",
            "                                                                 \n",
            "=================================================================\n",
            "Total params: 3,502,401\n",
            "Trainable params: 3,502,401\n",
            "Non-trainable params: 0\n",
            "_________________________________________________________________\n"
          ]
        }
      ],
      "source": [
        "# Adding complexity to the model\n",
        "\n",
        "model_2 = Sequential()\n",
        "\n",
        "model_2.add(Conv2D(32, (3, 3), input_shape = image_size))\n",
        "model_2.add(Activation('relu'))\n",
        "model_2.add(MaxPooling2D(pool_size=(2, 2)))\n",
        "\n",
        "model_2.add(Conv2D(64, (3, 3)))\n",
        "model_2.add(Activation('relu'))\n",
        "model_2.add(MaxPooling2D(pool_size=(2, 2)))\n",
        "\n",
        "model_2.add(Conv2D(128, (3, 3)))\n",
        "model_2.add(Activation('relu'))\n",
        "model_2.add(MaxPooling2D(pool_size=(2, 2)))\n",
        "\n",
        "\n",
        "\n",
        "model_2.add(Flatten())  \n",
        "model_2.add(Dense(256, activation='relu'))\n",
        " \n",
        "model_2.add(Flatten())  \n",
        "model_2.add(Dense(512, activation='relu'))\n",
        "\n",
        "model_2.add(Dense(1, activation=\"sigmoid\"))\n",
        "\n",
        "# Summary \n",
        "\n",
        "model_2.summary()\n",
        "\n",
        "# Compiling\n",
        "model_2.compile(loss='binary_crossentropy',\n",
        "              optimizer=\"adam\",\n",
        "              metrics=['accuracy'])"
      ]
    },
    {
      "cell_type": "code",
      "execution_count": 20,
      "metadata": {
        "colab": {
          "base_uri": "https://localhost:8080/"
        },
        "id": "N6x3xKakBFJv",
        "outputId": "58ad1a06-1d11-4346-8300-ba7237a56a66"
      },
      "outputs": [
        {
          "name": "stdout",
          "output_type": "stream",
          "text": [
            "Epoch 1/8\n",
            "375/375 [==============================] - ETA: 0s - loss: 0.5936 - accuracy: 0.6742\n",
            "Epoch 1: val_accuracy improved from -inf to 0.49973, saving model to Model2\n"
          ]
        },
        {
          "name": "stderr",
          "output_type": "stream",
          "text": [
            "WARNING:absl:Found untraced functions such as _jit_compiled_convolution_op, _jit_compiled_convolution_op, _jit_compiled_convolution_op, _update_step_xla while saving (showing 4 of 4). These functions will not be directly callable after loading.\n"
          ]
        },
        {
          "name": "stdout",
          "output_type": "stream",
          "text": [
            "INFO:tensorflow:Assets written to: Model2\\assets\n"
          ]
        },
        {
          "name": "stderr",
          "output_type": "stream",
          "text": [
            "INFO:tensorflow:Assets written to: Model2\\assets\n"
          ]
        },
        {
          "name": "stdout",
          "output_type": "stream",
          "text": [
            "375/375 [==============================] - 504s 1s/step - loss: 0.5936 - accuracy: 0.6742 - val_loss: 0.8475 - val_accuracy: 0.4997\n",
            "Epoch 2/8\n",
            "375/375 [==============================] - ETA: 0s - loss: 0.4558 - accuracy: 0.7858\n",
            "Epoch 2: val_accuracy improved from 0.49973 to 0.72320, saving model to Model2\n"
          ]
        },
        {
          "name": "stderr",
          "output_type": "stream",
          "text": [
            "WARNING:absl:Found untraced functions such as _jit_compiled_convolution_op, _jit_compiled_convolution_op, _jit_compiled_convolution_op, _update_step_xla while saving (showing 4 of 4). These functions will not be directly callable after loading.\n"
          ]
        },
        {
          "name": "stdout",
          "output_type": "stream",
          "text": [
            "INFO:tensorflow:Assets written to: Model2\\assets\n"
          ]
        },
        {
          "name": "stderr",
          "output_type": "stream",
          "text": [
            "INFO:tensorflow:Assets written to: Model2\\assets\n"
          ]
        },
        {
          "name": "stdout",
          "output_type": "stream",
          "text": [
            "375/375 [==============================] - 324s 865ms/step - loss: 0.4558 - accuracy: 0.7858 - val_loss: 0.5917 - val_accuracy: 0.7232\n",
            "Epoch 3/8\n",
            "375/375 [==============================] - ETA: 0s - loss: 0.4017 - accuracy: 0.8193\n",
            "Epoch 3: val_accuracy did not improve from 0.72320\n",
            "375/375 [==============================] - 291s 775ms/step - loss: 0.4017 - accuracy: 0.8193 - val_loss: 0.7393 - val_accuracy: 0.6144\n",
            "Epoch 4/8\n",
            "375/375 [==============================] - ETA: 0s - loss: 0.3342 - accuracy: 0.8513\n",
            "Epoch 4: val_accuracy did not improve from 0.72320\n",
            "375/375 [==============================] - 306s 815ms/step - loss: 0.3342 - accuracy: 0.8513 - val_loss: 0.6507 - val_accuracy: 0.6952\n",
            "Epoch 5/8\n",
            "375/375 [==============================] - ETA: 0s - loss: 0.2717 - accuracy: 0.8832\n",
            "Epoch 5: val_accuracy did not improve from 0.72320\n",
            "375/375 [==============================] - 301s 802ms/step - loss: 0.2717 - accuracy: 0.8832 - val_loss: 0.7937 - val_accuracy: 0.6600\n"
          ]
        }
      ],
      "source": [
        "# Model fit\n",
        "model2_checkpoint = ModelCheckpoint(\"Model2\", monitor=\"val_accuracy\", verbose=1, save_best_only=True, mode=\"max\")\n",
        "\n",
        "\n",
        "model_2_fit =  model_2.fit(train_generator,\n",
        "            validation_data=valid_generator,\n",
        "            epochs = 8, \n",
        "            use_multiprocessing=False, \n",
        "            verbose = 1,\n",
        "            callbacks=[callback, model2_checkpoint]\n",
        ")"
      ]
    },
    {
      "cell_type": "code",
      "execution_count": 21,
      "metadata": {
        "colab": {
          "base_uri": "https://localhost:8080/",
          "height": 581
        },
        "id": "ZlDMEoVhea5b",
        "outputId": "4c6cde45-c7e0-4de4-bf97-7b2970b2dddd"
      },
      "outputs": [
        {
          "data": {
            "image/png": "[encoded data removed]",
            "text/plain": [
              "<Figure size 432x288 with 1 Axes>"
            ]
          },
          "metadata": {},
          "output_type": "display_data"
        },
        {
          "data": {
            "image/png": "[encoded data removed]",
            "text/plain": [
              "<Figure size 432x288 with 1 Axes>"
            ]
          },
          "metadata": {},
          "output_type": "display_data"
        }
      ],
      "source": [
        "# Loss curve visualisation \n",
        "\n",
        "loss_curve_plot(model_2_fit)\n",
        "accuracy_curve_plot(model_2_fit)"
      ]
    },
    {
      "cell_type": "code",
      "execution_count": 22,
      "metadata": {
        "colab": {
          "base_uri": "https://localhost:8080/"
        },
        "id": "ndzaBg9mbM6A",
        "outputId": "83a979cd-71b7-4b19-b794-39c42829274b"
      },
      "outputs": [
        {
          "name": "stdout",
          "output_type": "stream",
          "text": [
            "188/188 [==============================] - 21s 111ms/step - loss: 0.7937 - accuracy: 0.6600\n"
          ]
        },
        {
          "data": {
            "text/plain": [
              "[0.7937229871749878, 0.6600000262260437]"
            ]
          },
          "execution_count": 22,
          "metadata": {},
          "output_type": "execute_result"
        }
      ],
      "source": [
        "# Model evaluation\n",
        "\n",
        "model_2.evaluate(valid_generator)"
      ]
    },
    {
      "cell_type": "code",
      "execution_count": 23,
      "metadata": {
        "colab": {
          "base_uri": "https://localhost:8080/"
        },
        "id": "5eWDKzIIfAk6",
        "outputId": "b033090b-2749-492a-97a1-c388115fd60b"
      },
      "outputs": [
        {
          "name": "stdout",
          "output_type": "stream",
          "text": [
            "207/250 [=======================>......] - ETA: 14s"
          ]
        },
        {
          "name": "stderr",
          "output_type": "stream",
          "text": [
            "c:\\Users\\Luca\\AppData\\Local\\Programs\\Python\\Python39\\lib\\site-packages\\PIL\\TiffImagePlugin.py:822: UserWarning: Truncated File Read\n",
            "  warnings.warn(str(msg))\n"
          ]
        },
        {
          "name": "stdout",
          "output_type": "stream",
          "text": [
            "250/250 [==============================] - 81s 322ms/step\n"
          ]
        }
      ],
      "source": [
        "# Build predictions\n",
        "\n",
        "predictions_2 = model_2.predict(test_generator,\n",
        "                      verbose=1)"
      ]
    },
    {
      "cell_type": "code",
      "execution_count": 24,
      "metadata": {
        "id": "E1g3DKwLHiGk"
      },
      "outputs": [],
      "source": [
        "# Transform model predictions' continuos output into binary categories\n",
        "\n",
        "bin_predictions_2 = pred_to_bin(predictions_2)\n",
        "\n",
        "# Associate binary number to true_label\n",
        "\n",
        "control_df_2 = build_controlDF(control_df, bin_predictions_2)\n"
      ]
    },
    {
      "cell_type": "code",
      "execution_count": 25,
      "metadata": {
        "colab": {
          "base_uri": "https://localhost:8080/",
          "height": 144
        },
        "id": "JGgZtCwPH5od",
        "outputId": "81685469-6805-4cb5-ad57-aba6b87131cf"
      },
      "outputs": [
        {
          "data": {
            "text/html": [
              "<div>\n",
              "<style scoped>\n",
              "    .dataframe tbody tr th:only-of-type {\n",
              "        vertical-align: middle;\n",
              "    }\n",
              "\n",
              "    .dataframe tbody tr th {\n",
              "        vertical-align: top;\n",
              "    }\n",
              "\n",
              "    .dataframe thead th {\n",
              "        text-align: right;\n",
              "    }\n",
              "</style>\n",
              "<table border=\"1\" class=\"dataframe\">\n",
              "  <thead>\n",
              "    <tr style=\"text-align: right;\">\n",
              "      <th></th>\n",
              "      <th>Accuracy</th>\n",
              "      <th>F1_Score</th>\n",
              "      <th>Precision</th>\n",
              "      <th>Recall</th>\n",
              "      <th>Roc Score</th>\n",
              "    </tr>\n",
              "  </thead>\n",
              "  <tbody>\n",
              "    <tr>\n",
              "      <th>1</th>\n",
              "      <td>0.717990</td>\n",
              "      <td>0.714384</td>\n",
              "      <td>0.729583</td>\n",
              "      <td>0.717990</td>\n",
              "      <td>0.717990</td>\n",
              "    </tr>\n",
              "    <tr>\n",
              "      <th>2</th>\n",
              "      <td>0.801697</td>\n",
              "      <td>0.798160</td>\n",
              "      <td>0.824433</td>\n",
              "      <td>0.801697</td>\n",
              "      <td>0.801697</td>\n",
              "    </tr>\n",
              "  </tbody>\n",
              "</table>\n",
              "</div>"
            ],
            "text/plain": [
              "   Accuracy  F1_Score  Precision    Recall  Roc Score\n",
              "1  0.717990  0.714384   0.729583  0.717990   0.717990\n",
              "2  0.801697  0.798160   0.824433  0.801697   0.801697"
            ]
          },
          "execution_count": 25,
          "metadata": {},
          "output_type": "execute_result"
        }
      ],
      "source": [
        "# Store model 2 results to comparison frame\n",
        "\n",
        "comparison_frame.loc[2] = evaluate_model(control_df_2.true_bin, control_df_2.prediction_binary)\n",
        "comparison_frame"
      ]
    },
    {
      "attachments": {},
      "cell_type": "markdown",
      "metadata": {},
      "source": [
        "## Model 3"
      ]
    },
    {
      "cell_type": "code",
      "execution_count": 26,
      "metadata": {},
      "outputs": [
        {
          "name": "stdout",
          "output_type": "stream",
          "text": [
            "Model: \"sequential_2\"\n",
            "_________________________________________________________________\n",
            " Layer (type)                Output Shape              Param #   \n",
            "=================================================================\n",
            " conv2d_4 (Conv2D)           (None, 98, 98, 32)        896       \n",
            "                                                                 \n",
            " activation_6 (Activation)   (None, 98, 98, 32)        0         \n",
            "                                                                 \n",
            " max_pooling2d_4 (MaxPooling  (None, 49, 49, 32)       0         \n",
            " 2D)                                                             \n",
            "                                                                 \n",
            " conv2d_5 (Conv2D)           (None, 47, 47, 64)        18496     \n",
            "                                                                 \n",
            " activation_7 (Activation)   (None, 47, 47, 64)        0         \n",
            "                                                                 \n",
            " max_pooling2d_5 (MaxPooling  (None, 23, 23, 64)       0         \n",
            " 2D)                                                             \n",
            "                                                                 \n",
            " conv2d_6 (Conv2D)           (None, 21, 21, 128)       73856     \n",
            "                                                                 \n",
            " activation_8 (Activation)   (None, 21, 21, 128)       0         \n",
            "                                                                 \n",
            " max_pooling2d_6 (MaxPooling  (None, 10, 10, 128)      0         \n",
            " 2D)                                                             \n",
            "                                                                 \n",
            " conv2d_7 (Conv2D)           (None, 8, 8, 256)         295168    \n",
            "                                                                 \n",
            " activation_9 (Activation)   (None, 8, 8, 256)         0         \n",
            "                                                                 \n",
            " max_pooling2d_7 (MaxPooling  (None, 4, 4, 256)        0         \n",
            " 2D)                                                             \n",
            "                                                                 \n",
            " flatten_3 (Flatten)         (None, 4096)              0         \n",
            "                                                                 \n",
            " dense_5 (Dense)             (None, 512)               2097664   \n",
            "                                                                 \n",
            " flatten_4 (Flatten)         (None, 512)               0         \n",
            "                                                                 \n",
            " dense_6 (Dense)             (None, 512)               262656    \n",
            "                                                                 \n",
            " flatten_5 (Flatten)         (None, 512)               0         \n",
            "                                                                 \n",
            " dense_7 (Dense)             (None, 512)               262656    \n",
            "                                                                 \n",
            " dense_8 (Dense)             (None, 1)                 513       \n",
            "                                                                 \n",
            "=================================================================\n",
            "Total params: 3,011,905\n",
            "Trainable params: 3,011,905\n",
            "Non-trainable params: 0\n",
            "_________________________________________________________________\n"
          ]
        }
      ],
      "source": [
        "# Adding complexity\n",
        "\n",
        "model_3 = Sequential()\n",
        "\n",
        "model_3.add(Conv2D(32, (3, 3), input_shape = image_size))\n",
        "model_3.add(Activation('relu'))\n",
        "model_3.add(MaxPooling2D(pool_size=(2, 2)))\n",
        "\n",
        "model_3.add(Conv2D(64, (3, 3)))\n",
        "model_3.add(Activation('relu'))\n",
        "model_3.add(MaxPooling2D(pool_size=(2, 2)))\n",
        "\n",
        "model_3.add(Conv2D(128, (3, 3)))\n",
        "model_3.add(Activation('relu'))\n",
        "model_3.add(MaxPooling2D(pool_size=(2, 2)))\n",
        "\n",
        "model_3.add(Conv2D(256, (3, 3)))\n",
        "model_3.add(Activation('relu'))\n",
        "model_3.add(MaxPooling2D(pool_size=(2, 2)))\n",
        "\n",
        "\n",
        "\n",
        "model_3.add(Flatten())  \n",
        "model_3.add(Dense(512, activation='relu'))\n",
        " \n",
        "model_3.add(Flatten())  \n",
        "model_3.add(Dense(512, activation='relu'))\n",
        "\n",
        "model_3.add(Flatten())  \n",
        "model_3.add(Dense(512, activation='relu'))\n",
        "\n",
        "model_3.add(Dense(1, activation=\"sigmoid\"))\n",
        "\n",
        "# Summary \n",
        "\n",
        "model_3.summary()\n",
        "\n",
        "# Compiling\n",
        "model_3.compile(loss='binary_crossentropy',\n",
        "              optimizer=\"adam\",\n",
        "              metrics=['accuracy'])"
      ]
    },
    {
      "cell_type": "code",
      "execution_count": 27,
      "metadata": {},
      "outputs": [
        {
          "name": "stdout",
          "output_type": "stream",
          "text": [
            "Epoch 1/8\n",
            "375/375 [==============================] - ETA: 0s - loss: 0.6277 - accuracy: 0.6553\n",
            "Epoch 1: val_accuracy improved from -inf to 0.32213, saving model to Model3\n"
          ]
        },
        {
          "name": "stderr",
          "output_type": "stream",
          "text": [
            "WARNING:absl:Found untraced functions such as _jit_compiled_convolution_op, _jit_compiled_convolution_op, _jit_compiled_convolution_op, _jit_compiled_convolution_op, _update_step_xla while saving (showing 5 of 5). These functions will not be directly callable after loading.\n"
          ]
        },
        {
          "name": "stdout",
          "output_type": "stream",
          "text": [
            "INFO:tensorflow:Assets written to: Model3\\assets\n"
          ]
        },
        {
          "name": "stderr",
          "output_type": "stream",
          "text": [
            "INFO:tensorflow:Assets written to: Model3\\assets\n"
          ]
        },
        {
          "name": "stdout",
          "output_type": "stream",
          "text": [
            "375/375 [==============================] - 344s 908ms/step - loss: 0.6277 - accuracy: 0.6553 - val_loss: 0.9410 - val_accuracy: 0.3221\n",
            "Epoch 2/8\n",
            "375/375 [==============================] - ETA: 0s - loss: 0.5217 - accuracy: 0.7411\n",
            "Epoch 2: val_accuracy improved from 0.32213 to 0.60933, saving model to Model3\n"
          ]
        },
        {
          "name": "stderr",
          "output_type": "stream",
          "text": [
            "WARNING:absl:Found untraced functions such as _jit_compiled_convolution_op, _jit_compiled_convolution_op, _jit_compiled_convolution_op, _jit_compiled_convolution_op, _update_step_xla while saving (showing 5 of 5). These functions will not be directly callable after loading.\n"
          ]
        },
        {
          "name": "stdout",
          "output_type": "stream",
          "text": [
            "INFO:tensorflow:Assets written to: Model3\\assets\n"
          ]
        },
        {
          "name": "stderr",
          "output_type": "stream",
          "text": [
            "INFO:tensorflow:Assets written to: Model3\\assets\n"
          ]
        },
        {
          "name": "stdout",
          "output_type": "stream",
          "text": [
            "375/375 [==============================] - 403s 1s/step - loss: 0.5217 - accuracy: 0.7411 - val_loss: 0.6533 - val_accuracy: 0.6093\n",
            "Epoch 3/8\n",
            "375/375 [==============================] - ETA: 0s - loss: 0.4291 - accuracy: 0.8025\n",
            "Epoch 3: val_accuracy improved from 0.60933 to 0.63440, saving model to Model3\n"
          ]
        },
        {
          "name": "stderr",
          "output_type": "stream",
          "text": [
            "WARNING:absl:Found untraced functions such as _jit_compiled_convolution_op, _jit_compiled_convolution_op, _jit_compiled_convolution_op, _jit_compiled_convolution_op, _update_step_xla while saving (showing 5 of 5). These functions will not be directly callable after loading.\n"
          ]
        },
        {
          "name": "stdout",
          "output_type": "stream",
          "text": [
            "INFO:tensorflow:Assets written to: Model3\\assets\n"
          ]
        },
        {
          "name": "stderr",
          "output_type": "stream",
          "text": [
            "INFO:tensorflow:Assets written to: Model3\\assets\n"
          ]
        },
        {
          "name": "stdout",
          "output_type": "stream",
          "text": [
            "375/375 [==============================] - 342s 911ms/step - loss: 0.4291 - accuracy: 0.8025 - val_loss: 0.6325 - val_accuracy: 0.6344\n",
            "Epoch 4/8\n",
            "375/375 [==============================] - ETA: 0s - loss: 0.3628 - accuracy: 0.8405\n",
            "Epoch 4: val_accuracy improved from 0.63440 to 0.80720, saving model to Model3\n"
          ]
        },
        {
          "name": "stderr",
          "output_type": "stream",
          "text": [
            "WARNING:absl:Found untraced functions such as _jit_compiled_convolution_op, _jit_compiled_convolution_op, _jit_compiled_convolution_op, _jit_compiled_convolution_op, _update_step_xla while saving (showing 5 of 5). These functions will not be directly callable after loading.\n"
          ]
        },
        {
          "name": "stdout",
          "output_type": "stream",
          "text": [
            "INFO:tensorflow:Assets written to: Model3\\assets\n"
          ]
        },
        {
          "name": "stderr",
          "output_type": "stream",
          "text": [
            "INFO:tensorflow:Assets written to: Model3\\assets\n"
          ]
        },
        {
          "name": "stdout",
          "output_type": "stream",
          "text": [
            "375/375 [==============================] - 336s 896ms/step - loss: 0.3628 - accuracy: 0.8405 - val_loss: 0.4111 - val_accuracy: 0.8072\n",
            "Epoch 5/8\n",
            "375/375 [==============================] - ETA: 0s - loss: 0.2910 - accuracy: 0.8737\n",
            "Epoch 5: val_accuracy did not improve from 0.80720\n",
            "375/375 [==============================] - 353s 940ms/step - loss: 0.2910 - accuracy: 0.8737 - val_loss: 0.9656 - val_accuracy: 0.6013\n",
            "Epoch 6/8\n",
            "375/375 [==============================] - ETA: 0s - loss: 0.2422 - accuracy: 0.8975\n",
            "Epoch 6: val_accuracy improved from 0.80720 to 0.82320, saving model to Model3\n"
          ]
        },
        {
          "name": "stderr",
          "output_type": "stream",
          "text": [
            "WARNING:absl:Found untraced functions such as _jit_compiled_convolution_op, _jit_compiled_convolution_op, _jit_compiled_convolution_op, _jit_compiled_convolution_op, _update_step_xla while saving (showing 5 of 5). These functions will not be directly callable after loading.\n"
          ]
        },
        {
          "name": "stdout",
          "output_type": "stream",
          "text": [
            "INFO:tensorflow:Assets written to: Model3\\assets\n"
          ]
        },
        {
          "name": "stderr",
          "output_type": "stream",
          "text": [
            "INFO:tensorflow:Assets written to: Model3\\assets\n"
          ]
        },
        {
          "name": "stdout",
          "output_type": "stream",
          "text": [
            "375/375 [==============================] - 355s 945ms/step - loss: 0.2422 - accuracy: 0.8975 - val_loss: 0.4160 - val_accuracy: 0.8232\n",
            "Epoch 7/8\n",
            "375/375 [==============================] - ETA: 0s - loss: 0.1851 - accuracy: 0.9222\n",
            "Epoch 7: val_accuracy did not improve from 0.82320\n",
            "375/375 [==============================] - 345s 919ms/step - loss: 0.1851 - accuracy: 0.9222 - val_loss: 0.4220 - val_accuracy: 0.8067\n",
            "Epoch 8/8\n",
            "375/375 [==============================] - ETA: 0s - loss: 0.1368 - accuracy: 0.9445\n",
            "Epoch 8: val_accuracy did not improve from 0.82320\n",
            "375/375 [==============================] - 345s 921ms/step - loss: 0.1368 - accuracy: 0.9445 - val_loss: 0.6356 - val_accuracy: 0.8128\n"
          ]
        }
      ],
      "source": [
        "# Model fit\n",
        "\n",
        "model3_checkpoint = ModelCheckpoint(\"Model3\", monitor=\"val_accuracy\", verbose=1, save_best_only=True, mode=\"max\")\n",
        "\n",
        "model_3_fit =  model_3.fit(train_generator,\n",
        "            validation_data=valid_generator,\n",
        "            epochs = 8, \n",
        "            use_multiprocessing=False, \n",
        "            verbose = 1,\n",
        "            callbacks=[callback, model3_checkpoint]\n",
        ")"
      ]
    },
    {
      "cell_type": "code",
      "execution_count": 28,
      "metadata": {},
      "outputs": [
        {
          "data": {
            "image/png": "[encoded data removed]",
            "text/plain": [
              "<Figure size 432x288 with 1 Axes>"
            ]
          },
          "metadata": {},
          "output_type": "display_data"
        },
        {
          "data": {
            "image/png": "[encoded data removed]",
            "text/plain": [
              "<Figure size 432x288 with 1 Axes>"
            ]
          },
          "metadata": {},
          "output_type": "display_data"
        }
      ],
      "source": [
        "# Loss curve visualisation \n",
        "\n",
        "loss_curve_plot(model_3_fit)\n",
        "accuracy_curve_plot(model_3_fit)"
      ]
    },
    {
      "cell_type": "code",
      "execution_count": 29,
      "metadata": {},
      "outputs": [
        {
          "name": "stdout",
          "output_type": "stream",
          "text": [
            "188/188 [==============================] - 23s 122ms/step - loss: 0.6356 - accuracy: 0.8128\n"
          ]
        },
        {
          "data": {
            "text/plain": [
              "[0.6355986595153809, 0.8127999901771545]"
            ]
          },
          "execution_count": 29,
          "metadata": {},
          "output_type": "execute_result"
        }
      ],
      "source": [
        "# Model evaluation\n",
        "\n",
        "model_3.evaluate(valid_generator)"
      ]
    },
    {
      "cell_type": "code",
      "execution_count": 30,
      "metadata": {},
      "outputs": [
        {
          "name": "stdout",
          "output_type": "stream",
          "text": [
            "208/250 [=======================>......] - ETA: 11s"
          ]
        },
        {
          "name": "stderr",
          "output_type": "stream",
          "text": [
            "c:\\Users\\Luca\\AppData\\Local\\Programs\\Python\\Python39\\lib\\site-packages\\PIL\\TiffImagePlugin.py:822: UserWarning: Truncated File Read\n",
            "  warnings.warn(str(msg))\n"
          ]
        },
        {
          "name": "stdout",
          "output_type": "stream",
          "text": [
            "250/250 [==============================] - 63s 253ms/step\n"
          ]
        }
      ],
      "source": [
        "# Build predictions\n",
        "\n",
        "predictions_3 = model_3.predict(test_generator,\n",
        "                      verbose=1)"
      ]
    },
    {
      "cell_type": "code",
      "execution_count": 31,
      "metadata": {},
      "outputs": [],
      "source": [
        "# Transform model predictions' continuos output into binary categories\n",
        "\n",
        "bin_predictions_3 = pred_to_bin(predictions_3)\n",
        "\n",
        "# Associate binary number to true_label\n",
        "\n",
        "control_df_3 = build_controlDF(control_df, bin_predictions_3)\n"
      ]
    },
    {
      "cell_type": "code",
      "execution_count": 32,
      "metadata": {},
      "outputs": [
        {
          "data": {
            "text/html": [
              "<div>\n",
              "<style scoped>\n",
              "    .dataframe tbody tr th:only-of-type {\n",
              "        vertical-align: middle;\n",
              "    }\n",
              "\n",
              "    .dataframe tbody tr th {\n",
              "        vertical-align: top;\n",
              "    }\n",
              "\n",
              "    .dataframe thead th {\n",
              "        text-align: right;\n",
              "    }\n",
              "</style>\n",
              "<table border=\"1\" class=\"dataframe\">\n",
              "  <thead>\n",
              "    <tr style=\"text-align: right;\">\n",
              "      <th></th>\n",
              "      <th>Accuracy</th>\n",
              "      <th>F1_Score</th>\n",
              "      <th>Precision</th>\n",
              "      <th>Recall</th>\n",
              "      <th>Roc Score</th>\n",
              "    </tr>\n",
              "  </thead>\n",
              "  <tbody>\n",
              "    <tr>\n",
              "      <th>1</th>\n",
              "      <td>0.717990</td>\n",
              "      <td>0.714384</td>\n",
              "      <td>0.729583</td>\n",
              "      <td>0.717990</td>\n",
              "      <td>0.717990</td>\n",
              "    </tr>\n",
              "    <tr>\n",
              "      <th>2</th>\n",
              "      <td>0.801697</td>\n",
              "      <td>0.798160</td>\n",
              "      <td>0.824433</td>\n",
              "      <td>0.801697</td>\n",
              "      <td>0.801697</td>\n",
              "    </tr>\n",
              "    <tr>\n",
              "      <th>3</th>\n",
              "      <td>0.850352</td>\n",
              "      <td>0.850218</td>\n",
              "      <td>0.851612</td>\n",
              "      <td>0.850352</td>\n",
              "      <td>0.850352</td>\n",
              "    </tr>\n",
              "  </tbody>\n",
              "</table>\n",
              "</div>"
            ],
            "text/plain": [
              "   Accuracy  F1_Score  Precision    Recall  Roc Score\n",
              "1  0.717990  0.714384   0.729583  0.717990   0.717990\n",
              "2  0.801697  0.798160   0.824433  0.801697   0.801697\n",
              "3  0.850352  0.850218   0.851612  0.850352   0.850352"
            ]
          },
          "execution_count": 32,
          "metadata": {},
          "output_type": "execute_result"
        }
      ],
      "source": [
        "# Store model 3 results to comparison frame\n",
        "\n",
        "comparison_frame.loc[3] = evaluate_model(control_df_3.true_bin, control_df_3.prediction_binary)\n",
        "comparison_frame"
      ]
    },
    {
      "attachments": {},
      "cell_type": "markdown",
      "metadata": {},
      "source": [
        "## Model 4"
      ]
    },
    {
      "cell_type": "code",
      "execution_count": 33,
      "metadata": {},
      "outputs": [
        {
          "name": "stdout",
          "output_type": "stream",
          "text": [
            "Found 15000 validated image filenames belonging to 2 classes.\n",
            "Found 3750 validated image filenames belonging to 2 classes.\n",
            "Found 6248 validated image filenames.\n"
          ]
        }
      ],
      "source": [
        "# Adding data augmentation\n",
        "\n",
        "# Setup generator\n",
        "\n",
        "image_generator = ImageDataGenerator(rescale=1/255, width_shift_range=0.1, height_shift_range=0.1, horizontal_flip=True, validation_split=0.2) # rescaling data to 0 and 1, 1/255 due to the fact that it is RGB data and using data augmentation\n",
        "\n",
        "# Flow from dataframe function setup\n",
        "\n",
        "train_generator = image_generator.flow_from_dataframe(\n",
        "                                            dataframe=train_df,\n",
        "                                            directory=\"./train\",\n",
        "                                            x_col=\"id\",\n",
        "                                            y_col=\"label\",\n",
        "                                            subset=\"training\",\n",
        "                                            batch_size=40,\n",
        "                                            seed=42,\n",
        "                                            shuffle=True,\n",
        "                                            class_mode=\"binary\",\n",
        "                                            target_size=image_size[0:2],\n",
        "                                            color_mode=\"rgb\")\n",
        "\n",
        "valid_generator = image_generator.flow_from_dataframe(\n",
        "                                                    dataframe=train_df,\n",
        "                                                    directory=\"./train\",\n",
        "                                                    x_col=\"id\",\n",
        "                                                    y_col=\"label\",\n",
        "                                                    subset=\"validation\",\n",
        "                                                    batch_size=20,\n",
        "                                                    seed=42,\n",
        "                                                    shuffle=True,\n",
        "                                                    class_mode=\"binary\",\n",
        "                                                    target_size=image_size[0:2],\n",
        "                                                    color_mode=\"rgb\")\n",
        "\n",
        "test_image_generator = ImageDataGenerator(rescale=1/255)\n",
        "\n",
        "test_generator= test_image_generator.flow_from_dataframe(\n",
        "                                                    dataframe=test_df,\n",
        "                                                    directory=\"./test\",\n",
        "                                                    x_col=\"id\",\n",
        "                                                    y_col=None,\n",
        "                                                    batch_size=25,\n",
        "                                                    seed=42,\n",
        "                                                    shuffle=False,\n",
        "                                                    class_mode=None,\n",
        "                                                    target_size=image_size[0:2],\n",
        "                                                    color_mode=\"rgb\")\n"
      ]
    },
    {
      "cell_type": "code",
      "execution_count": 34,
      "metadata": {
        "colab": {
          "base_uri": "https://localhost:8080/"
        },
        "id": "6plVZhpFIOeu",
        "outputId": "44eaa622-01d7-42fe-e714-ed6717a1d4d9"
      },
      "outputs": [
        {
          "name": "stdout",
          "output_type": "stream",
          "text": [
            "Model: \"sequential_3\"\n",
            "_________________________________________________________________\n",
            " Layer (type)                Output Shape              Param #   \n",
            "=================================================================\n",
            " conv2d_8 (Conv2D)           (None, 98, 98, 32)        896       \n",
            "                                                                 \n",
            " activation_10 (Activation)  (None, 98, 98, 32)        0         \n",
            "                                                                 \n",
            " max_pooling2d_8 (MaxPooling  (None, 49, 49, 32)       0         \n",
            " 2D)                                                             \n",
            "                                                                 \n",
            " conv2d_9 (Conv2D)           (None, 47, 47, 64)        18496     \n",
            "                                                                 \n",
            " activation_11 (Activation)  (None, 47, 47, 64)        0         \n",
            "                                                                 \n",
            " max_pooling2d_9 (MaxPooling  (None, 23, 23, 64)       0         \n",
            " 2D)                                                             \n",
            "                                                                 \n",
            " conv2d_10 (Conv2D)          (None, 21, 21, 128)       73856     \n",
            "                                                                 \n",
            " activation_12 (Activation)  (None, 21, 21, 128)       0         \n",
            "                                                                 \n",
            " max_pooling2d_10 (MaxPoolin  (None, 10, 10, 128)      0         \n",
            " g2D)                                                            \n",
            "                                                                 \n",
            " conv2d_11 (Conv2D)          (None, 8, 8, 256)         295168    \n",
            "                                                                 \n",
            " activation_13 (Activation)  (None, 8, 8, 256)         0         \n",
            "                                                                 \n",
            " max_pooling2d_11 (MaxPoolin  (None, 4, 4, 256)        0         \n",
            " g2D)                                                            \n",
            "                                                                 \n",
            " flatten_6 (Flatten)         (None, 4096)              0         \n",
            "                                                                 \n",
            " dense_9 (Dense)             (None, 512)               2097664   \n",
            "                                                                 \n",
            " flatten_7 (Flatten)         (None, 512)               0         \n",
            "                                                                 \n",
            " dense_10 (Dense)            (None, 512)               262656    \n",
            "                                                                 \n",
            " flatten_8 (Flatten)         (None, 512)               0         \n",
            "                                                                 \n",
            " dense_11 (Dense)            (None, 512)               262656    \n",
            "                                                                 \n",
            " dense_12 (Dense)            (None, 1)                 513       \n",
            "                                                                 \n",
            "=================================================================\n",
            "Total params: 3,011,905\n",
            "Trainable params: 3,011,905\n",
            "Non-trainable params: 0\n",
            "_________________________________________________________________\n"
          ]
        }
      ],
      "source": [
        "# Adding data augmentation\n",
        "\n",
        "model_4 = Sequential()\n",
        "\n",
        "model_4.add(Conv2D(32, (3, 3), input_shape = image_size))\n",
        "model_4.add(Activation('relu'))\n",
        "model_4.add(MaxPooling2D(pool_size=(2, 2)))\n",
        "\n",
        "model_4.add(Conv2D(64, (3, 3)))\n",
        "model_4.add(Activation('relu'))\n",
        "model_4.add(MaxPooling2D(pool_size=(2, 2)))\n",
        "\n",
        "model_4.add(Conv2D(128, (3, 3)))\n",
        "model_4.add(Activation('relu'))\n",
        "model_4.add(MaxPooling2D(pool_size=(2, 2)))\n",
        "\n",
        "model_4.add(Conv2D(256, (3, 3)))\n",
        "model_4.add(Activation('relu'))\n",
        "model_4.add(MaxPooling2D(pool_size=(2, 2)))\n",
        "\n",
        "\n",
        "\n",
        "model_4.add(Flatten())  \n",
        "model_4.add(Dense(512, activation='relu'))\n",
        " \n",
        "model_4.add(Flatten())  \n",
        "model_4.add(Dense(512, activation='relu'))\n",
        "\n",
        "model_4.add(Flatten())  \n",
        "model_4.add(Dense(512, activation='relu'))\n",
        "\n",
        "model_4.add(Dense(1, activation=\"sigmoid\"))\n",
        "\n",
        "# Summary \n",
        "\n",
        "model_4.summary()\n",
        "\n",
        "# Compiling\n",
        "model_4.compile(loss='binary_crossentropy',\n",
        "              optimizer=\"adam\",\n",
        "              metrics=['accuracy'])"
      ]
    },
    {
      "cell_type": "code",
      "execution_count": 35,
      "metadata": {
        "colab": {
          "base_uri": "https://localhost:8080/"
        },
        "id": "XreeApKzY46c",
        "outputId": "54fde113-e85d-4d04-bf09-4900ad876dab"
      },
      "outputs": [
        {
          "name": "stdout",
          "output_type": "stream",
          "text": [
            "Epoch 1/8\n",
            "375/375 [==============================] - ETA: 0s - loss: 0.3250 - accuracy: 0.8578\n",
            "Epoch 1: val_accuracy improved from -inf to 0.91440, saving model to Model4\n"
          ]
        },
        {
          "name": "stderr",
          "output_type": "stream",
          "text": [
            "WARNING:absl:Found untraced functions such as _jit_compiled_convolution_op, _jit_compiled_convolution_op, _jit_compiled_convolution_op, _jit_compiled_convolution_op, _update_step_xla while saving (showing 5 of 5). These functions will not be directly callable after loading.\n"
          ]
        },
        {
          "name": "stdout",
          "output_type": "stream",
          "text": [
            "INFO:tensorflow:Assets written to: Model4\\assets\n"
          ]
        },
        {
          "name": "stderr",
          "output_type": "stream",
          "text": [
            "INFO:tensorflow:Assets written to: Model4\\assets\n"
          ]
        },
        {
          "name": "stdout",
          "output_type": "stream",
          "text": [
            "375/375 [==============================] - 373s 993ms/step - loss: 0.3250 - accuracy: 0.8578 - val_loss: 0.2115 - val_accuracy: 0.9144\n",
            "Epoch 2/8\n",
            "375/375 [==============================] - ETA: 0s - loss: 0.2963 - accuracy: 0.8723\n",
            "Epoch 2: val_accuracy did not improve from 0.91440\n",
            "375/375 [==============================] - 369s 983ms/step - loss: 0.2963 - accuracy: 0.8723 - val_loss: 0.5328 - val_accuracy: 0.7488\n",
            "Epoch 3/8\n",
            "375/375 [==============================] - ETA: 0s - loss: 0.2713 - accuracy: 0.8817\n",
            "Epoch 3: val_accuracy did not improve from 0.91440\n",
            "375/375 [==============================] - 368s 980ms/step - loss: 0.2713 - accuracy: 0.8817 - val_loss: 0.7220 - val_accuracy: 0.6992\n",
            "Epoch 4/8\n",
            "375/375 [==============================] - ETA: 0s - loss: 0.2617 - accuracy: 0.8875\n",
            "Epoch 4: val_accuracy did not improve from 0.91440\n",
            "375/375 [==============================] - 369s 984ms/step - loss: 0.2617 - accuracy: 0.8875 - val_loss: 0.4810 - val_accuracy: 0.7867\n"
          ]
        }
      ],
      "source": [
        "# Model fit\n",
        "\n",
        "model4_checkpoint = ModelCheckpoint(\"Model4\", monitor=\"val_accuracy\", verbose=1, save_best_only=True, mode=\"max\")\n",
        "\n",
        "model_4_fit =  model_3.fit(train_generator,\n",
        "            validation_data=valid_generator,\n",
        "            epochs = 8, \n",
        "            use_multiprocessing=False, \n",
        "            verbose = 1,\n",
        "            callbacks=[callback, model4_checkpoint]\n",
        ")"
      ]
    },
    {
      "cell_type": "code",
      "execution_count": 36,
      "metadata": {
        "colab": {
          "base_uri": "https://localhost:8080/",
          "height": 581
        },
        "id": "gsjPcdthJlcT",
        "outputId": "ef184888-3d4d-40a9-ada4-22a1ec399d46"
      },
      "outputs": [
        {
          "data": {
            "image/png": "[encoded data removed]",
            "text/plain": [
              "<Figure size 432x288 with 1 Axes>"
            ]
          },
          "metadata": {},
          "output_type": "display_data"
        },
        {
          "data": {
            "image/png": "[encoded data removed]",
            "text/plain": [
              "<Figure size 432x288 with 1 Axes>"
            ]
          },
          "metadata": {},
          "output_type": "display_data"
        }
      ],
      "source": [
        "# Loss curve visualisation \n",
        "\n",
        "loss_curve_plot(model_4_fit)\n",
        "accuracy_curve_plot(model_4_fit)"
      ]
    },
    {
      "cell_type": "code",
      "execution_count": 37,
      "metadata": {
        "colab": {
          "base_uri": "https://localhost:8080/"
        },
        "id": "xDCNmutD5yp-",
        "outputId": "5109500f-d501-469d-f53e-1de9bd219e68"
      },
      "outputs": [
        {
          "name": "stdout",
          "output_type": "stream",
          "text": [
            "188/188 [==============================] - 38s 197ms/step - loss: 0.6894 - accuracy: 0.9197\n"
          ]
        },
        {
          "data": {
            "text/plain": [
              "[0.6894381046295166, 0.9197333455085754]"
            ]
          },
          "execution_count": 37,
          "metadata": {},
          "output_type": "execute_result"
        }
      ],
      "source": [
        "# Model evaluation\n",
        "\n",
        "model_4.evaluate(valid_generator)"
      ]
    },
    {
      "cell_type": "code",
      "execution_count": 38,
      "metadata": {
        "colab": {
          "base_uri": "https://localhost:8080/"
        },
        "id": "vkPLXniP7l4P",
        "outputId": "d5d2d4f1-c04c-40c8-b1ef-64ab8371d5e3"
      },
      "outputs": [
        {
          "name": "stdout",
          "output_type": "stream",
          "text": [
            "207/250 [=======================>......] - ETA: 8s"
          ]
        },
        {
          "name": "stderr",
          "output_type": "stream",
          "text": [
            "c:\\Users\\Luca\\AppData\\Local\\Programs\\Python\\Python39\\lib\\site-packages\\PIL\\TiffImagePlugin.py:822: UserWarning: Truncated File Read\n",
            "  warnings.warn(str(msg))\n"
          ]
        },
        {
          "name": "stdout",
          "output_type": "stream",
          "text": [
            "250/250 [==============================] - 49s 194ms/step\n"
          ]
        }
      ],
      "source": [
        "# Build predictions\n",
        "\n",
        "predictions_4 = model_4.predict(test_generator,\n",
        "                      verbose=1)"
      ]
    },
    {
      "cell_type": "code",
      "execution_count": 39,
      "metadata": {
        "id": "sgUsDyVF7ssT"
      },
      "outputs": [],
      "source": [
        "# Transform model predictions' continuos output into binary categories\n",
        "\n",
        "bin_predictions_4 = pred_to_bin(predictions_4)\n",
        "\n",
        "# Associate binary number to true_label\n",
        "\n",
        "control_df_4 = build_controlDF(control_df, bin_predictions_4)\n"
      ]
    },
    {
      "cell_type": "code",
      "execution_count": 40,
      "metadata": {
        "colab": {
          "base_uri": "https://localhost:8080/",
          "height": 175
        },
        "id": "zuS_uj4v7yVJ",
        "outputId": "a64c7ef7-65e8-422a-bb1d-06e7109fdae0"
      },
      "outputs": [
        {
          "data": {
            "text/html": [
              "<div>\n",
              "<style scoped>\n",
              "    .dataframe tbody tr th:only-of-type {\n",
              "        vertical-align: middle;\n",
              "    }\n",
              "\n",
              "    .dataframe tbody tr th {\n",
              "        vertical-align: top;\n",
              "    }\n",
              "\n",
              "    .dataframe thead th {\n",
              "        text-align: right;\n",
              "    }\n",
              "</style>\n",
              "<table border=\"1\" class=\"dataframe\">\n",
              "  <thead>\n",
              "    <tr style=\"text-align: right;\">\n",
              "      <th></th>\n",
              "      <th>Accuracy</th>\n",
              "      <th>F1_Score</th>\n",
              "      <th>Precision</th>\n",
              "      <th>Recall</th>\n",
              "      <th>Roc Score</th>\n",
              "    </tr>\n",
              "  </thead>\n",
              "  <tbody>\n",
              "    <tr>\n",
              "      <th>1</th>\n",
              "      <td>0.717990</td>\n",
              "      <td>0.714384</td>\n",
              "      <td>0.729583</td>\n",
              "      <td>0.717990</td>\n",
              "      <td>0.717990</td>\n",
              "    </tr>\n",
              "    <tr>\n",
              "      <th>2</th>\n",
              "      <td>0.801697</td>\n",
              "      <td>0.798160</td>\n",
              "      <td>0.824433</td>\n",
              "      <td>0.801697</td>\n",
              "      <td>0.801697</td>\n",
              "    </tr>\n",
              "    <tr>\n",
              "      <th>3</th>\n",
              "      <td>0.850352</td>\n",
              "      <td>0.850218</td>\n",
              "      <td>0.851612</td>\n",
              "      <td>0.850352</td>\n",
              "      <td>0.850352</td>\n",
              "    </tr>\n",
              "    <tr>\n",
              "      <th>4</th>\n",
              "      <td>0.494878</td>\n",
              "      <td>0.378043</td>\n",
              "      <td>0.479397</td>\n",
              "      <td>0.494878</td>\n",
              "      <td>0.494878</td>\n",
              "    </tr>\n",
              "  </tbody>\n",
              "</table>\n",
              "</div>"
            ],
            "text/plain": [
              "   Accuracy  F1_Score  Precision    Recall  Roc Score\n",
              "1  0.717990  0.714384   0.729583  0.717990   0.717990\n",
              "2  0.801697  0.798160   0.824433  0.801697   0.801697\n",
              "3  0.850352  0.850218   0.851612  0.850352   0.850352\n",
              "4  0.494878  0.378043   0.479397  0.494878   0.494878"
            ]
          },
          "execution_count": 40,
          "metadata": {},
          "output_type": "execute_result"
        }
      ],
      "source": [
        "# Store model 3 results to comparison frame\n",
        "\n",
        "comparison_frame.loc[4] = evaluate_model(control_df_4.true_bin, control_df_4.prediction_binary)\n",
        "comparison_frame"
      ]
    },
    {
      "attachments": {},
      "cell_type": "markdown",
      "metadata": {},
      "source": [
        "## MODEL 5\n"
      ]
    },
    {
      "cell_type": "code",
      "execution_count": 41,
      "metadata": {},
      "outputs": [
        {
          "name": "stdout",
          "output_type": "stream",
          "text": [
            "Found 15000 validated image filenames belonging to 2 classes.\n",
            "Found 3750 validated image filenames belonging to 2 classes.\n",
            "Found 6248 validated image filenames.\n"
          ]
        }
      ],
      "source": [
        "# Setup generator\n",
        "\n",
        "image_generator = ImageDataGenerator(rescale=1/255, validation_split=0.2) # rescaling data to 0 and 1, 1/255 due to the fact that it is RGB data\n",
        "\n",
        "# Flow from dataframe function setup\n",
        "\n",
        "train_generator = image_generator.flow_from_dataframe(\n",
        "                                            dataframe=train_df,\n",
        "                                            directory=\"./train\",\n",
        "                                            x_col=\"id\",\n",
        "                                            y_col=\"label\",\n",
        "                                            subset=\"training\",\n",
        "                                            batch_size=40,\n",
        "                                            seed=42,\n",
        "                                            shuffle=True,\n",
        "                                            class_mode=\"binary\",\n",
        "                                            target_size=image_size[0:2],\n",
        "                                            color_mode=\"rgb\")\n",
        "\n",
        "valid_generator=image_generator.flow_from_dataframe(\n",
        "                                                    dataframe=train_df,\n",
        "                                                    directory=\"./train\",\n",
        "                                                    x_col=\"id\",\n",
        "                                                    y_col=\"label\",\n",
        "                                                    subset=\"validation\",\n",
        "                                                    batch_size=20,\n",
        "                                                    seed=42,\n",
        "                                                    shuffle=True,\n",
        "                                                    class_mode=\"binary\",\n",
        "                                                    target_size=image_size[0:2],\n",
        "                                                    color_mode=\"rgb\")\n",
        "\n",
        "test_image_generator = ImageDataGenerator(rescale=1/255)\n",
        "\n",
        "test_generator=test_image_generator.flow_from_dataframe(\n",
        "                                                    dataframe=test_df,\n",
        "                                                    directory=\"./test\",\n",
        "                                                    x_col=\"id\",\n",
        "                                                    y_col=None,\n",
        "                                                    batch_size=25,\n",
        "                                                    seed=42,\n",
        "                                                    shuffle=False,\n",
        "                                                    class_mode=None,\n",
        "                                                    target_size=image_size[0:2],\n",
        "                                                    color_mode=\"rgb\")"
      ]
    },
    {
      "cell_type": "code",
      "execution_count": 51,
      "metadata": {},
      "outputs": [
        {
          "name": "stdout",
          "output_type": "stream",
          "text": [
            "Model: \"sequential_6\"\n",
            "_________________________________________________________________\n",
            " Layer (type)                Output Shape              Param #   \n",
            "=================================================================\n",
            " conv2d_220 (Conv2D)         (None, 98, 98, 32)        896       \n",
            "                                                                 \n",
            " activation_221 (Activation)  (None, 98, 98, 32)       0         \n",
            "                                                                 \n",
            " max_pooling2d_20 (MaxPoolin  (None, 49, 49, 32)       0         \n",
            " g2D)                                                            \n",
            "                                                                 \n",
            " conv2d_221 (Conv2D)         (None, 47, 47, 64)        18496     \n",
            "                                                                 \n",
            " activation_222 (Activation)  (None, 47, 47, 64)       0         \n",
            "                                                                 \n",
            " max_pooling2d_21 (MaxPoolin  (None, 23, 23, 64)       0         \n",
            " g2D)                                                            \n",
            "                                                                 \n",
            " conv2d_222 (Conv2D)         (None, 21, 21, 128)       73856     \n",
            "                                                                 \n",
            " activation_223 (Activation)  (None, 21, 21, 128)      0         \n",
            "                                                                 \n",
            " batch_normalization_207 (Ba  (None, 21, 21, 128)      512       \n",
            " tchNormalization)                                               \n",
            "                                                                 \n",
            " max_pooling2d_22 (MaxPoolin  (None, 10, 10, 128)      0         \n",
            " g2D)                                                            \n",
            "                                                                 \n",
            " dropout_7 (Dropout)         (None, 10, 10, 128)       0         \n",
            "                                                                 \n",
            " conv2d_223 (Conv2D)         (None, 8, 8, 256)         295168    \n",
            "                                                                 \n",
            " activation_224 (Activation)  (None, 8, 8, 256)        0         \n",
            "                                                                 \n",
            " max_pooling2d_23 (MaxPoolin  (None, 4, 4, 256)        0         \n",
            " g2D)                                                            \n",
            "                                                                 \n",
            " flatten_12 (Flatten)        (None, 4096)              0         \n",
            "                                                                 \n",
            " dense_17 (Dense)            (None, 512)               2097664   \n",
            "                                                                 \n",
            " flatten_13 (Flatten)        (None, 512)               0         \n",
            "                                                                 \n",
            " dense_18 (Dense)            (None, 512)               262656    \n",
            "                                                                 \n",
            " dropout_8 (Dropout)         (None, 512)               0         \n",
            "                                                                 \n",
            " flatten_14 (Flatten)        (None, 512)               0         \n",
            "                                                                 \n",
            " dense_19 (Dense)            (None, 512)               262656    \n",
            "                                                                 \n",
            " dropout_9 (Dropout)         (None, 512)               0         \n",
            "                                                                 \n",
            " dense_20 (Dense)            (None, 1)                 513       \n",
            "                                                                 \n",
            "=================================================================\n",
            "Total params: 3,012,417\n",
            "Trainable params: 3,012,161\n",
            "Non-trainable params: 256\n",
            "_________________________________________________________________\n"
          ]
        }
      ],
      "source": [
        "# Adding  regularization with batch normalization and dropout\n",
        "\n",
        "model_5 = Sequential()\n",
        "\n",
        "model_5.add(Conv2D(32, (3, 3), input_shape = image_size))\n",
        "model_5.add(Activation('relu'))\n",
        "model_5.add(MaxPooling2D(pool_size=(2, 2)))\n",
        "\n",
        "model_5.add(Conv2D(64, (3, 3)))\n",
        "model_5.add(Activation('relu'))\n",
        "model_5.add(MaxPooling2D(pool_size=(2, 2)))\n",
        "\n",
        "model_5.add(Conv2D(128, (3, 3)))\n",
        "model_5.add(BatchNormalization())\n",
        "model_5.add(Activation('relu'))\n",
        "model_5.add(MaxPooling2D(pool_size=(2, 2)))\n",
        "model_5.add(Dropout(0.1))\n",
        "\n",
        "model_5.add(Conv2D(256, (3, 3)))\n",
        "model_5.add(Activation('relu'))\n",
        "model_5.add(MaxPooling2D(pool_size=(2, 2)))\n",
        "\n",
        "\n",
        "\n",
        "model_5.add(Flatten())  \n",
        "model_5.add(Dense(512, activation='relu'))\n",
        " \n",
        "model_5.add(Flatten())  \n",
        "model_5.add(Dense(512, activation='relu'))\n",
        "model_5.add(Dropout(0.1))\n",
        "\n",
        "model_5.add(Flatten())  \n",
        "model_5.add(Dense(512, activation='relu'))\n",
        "model_5.add(Dropout(0.2))\n",
        "\n",
        "model_5.add(Dense(1, activation=\"sigmoid\"))\n",
        "\n",
        "# Summary \n",
        "\n",
        "model_5.summary()\n",
        "\n",
        "# Compiling\n",
        "model_5.compile(loss='binary_crossentropy',\n",
        "              optimizer=\"adam\",\n",
        "              metrics=['accuracy'])"
      ]
    },
    {
      "cell_type": "code",
      "execution_count": 52,
      "metadata": {},
      "outputs": [
        {
          "name": "stdout",
          "output_type": "stream",
          "text": [
            "Epoch 1/8\n",
            "375/375 [==============================] - ETA: 0s - loss: 0.5919 - accuracy: 0.6832\n",
            "Epoch 1: val_accuracy improved from -inf to 0.88747, saving model to Model5\n"
          ]
        },
        {
          "name": "stderr",
          "output_type": "stream",
          "text": [
            "WARNING:absl:Found untraced functions such as _jit_compiled_convolution_op, _jit_compiled_convolution_op, _jit_compiled_convolution_op, _jit_compiled_convolution_op, _update_step_xla while saving (showing 5 of 5). These functions will not be directly callable after loading.\n"
          ]
        },
        {
          "name": "stdout",
          "output_type": "stream",
          "text": [
            "INFO:tensorflow:Assets written to: Model5\\assets\n"
          ]
        },
        {
          "name": "stderr",
          "output_type": "stream",
          "text": [
            "INFO:tensorflow:Assets written to: Model5\\assets\n"
          ]
        },
        {
          "name": "stdout",
          "output_type": "stream",
          "text": [
            "375/375 [==============================] - 421s 1s/step - loss: 0.5919 - accuracy: 0.6832 - val_loss: 0.5987 - val_accuracy: 0.8875\n",
            "Epoch 2/8\n",
            "375/375 [==============================] - ETA: 0s - loss: 0.4847 - accuracy: 0.7675\n",
            "Epoch 2: val_accuracy did not improve from 0.88747\n",
            "375/375 [==============================] - 382s 1s/step - loss: 0.4847 - accuracy: 0.7675 - val_loss: 0.5734 - val_accuracy: 0.6861\n",
            "Epoch 3/8\n",
            "375/375 [==============================] - ETA: 0s - loss: 0.4120 - accuracy: 0.8132\n",
            "Epoch 3: val_accuracy did not improve from 0.88747\n",
            "375/375 [==============================] - 415s 1s/step - loss: 0.4120 - accuracy: 0.8132 - val_loss: 0.3227 - val_accuracy: 0.8469\n",
            "Epoch 4/8\n",
            "375/375 [==============================] - ETA: 0s - loss: 0.3643 - accuracy: 0.8419\n",
            "Epoch 4: val_accuracy did not improve from 0.88747\n",
            "375/375 [==============================] - 463s 1s/step - loss: 0.3643 - accuracy: 0.8419 - val_loss: 0.4042 - val_accuracy: 0.8061\n"
          ]
        }
      ],
      "source": [
        "# Model fit\n",
        "\n",
        "model5_checkpoint = ModelCheckpoint(\"Model5\", monitor=\"val_accuracy\", verbose=1, save_best_only=True, mode=\"max\")\n",
        "\n",
        "model_5_fit =  model_5.fit(train_generator,\n",
        "            validation_data=valid_generator,\n",
        "            epochs = 8, \n",
        "            use_multiprocessing=False, \n",
        "            verbose = 1,\n",
        "            callbacks=[callback, model5_checkpoint]\n",
        ")"
      ]
    },
    {
      "cell_type": "code",
      "execution_count": 53,
      "metadata": {},
      "outputs": [
        {
          "data": {
            "image/png": "[encoded data removed]",
            "text/plain": [
              "<Figure size 432x288 with 1 Axes>"
            ]
          },
          "metadata": {},
          "output_type": "display_data"
        },
        {
          "data": {
            "image/png": "[encoded data removed]",
            "text/plain": [
              "<Figure size 432x288 with 1 Axes>"
            ]
          },
          "metadata": {},
          "output_type": "display_data"
        }
      ],
      "source": [
        "# Loss curve visualisation \n",
        "\n",
        "loss_curve_plot(model_5_fit)\n",
        "accuracy_curve_plot(model_5_fit)"
      ]
    },
    {
      "cell_type": "code",
      "execution_count": 54,
      "metadata": {},
      "outputs": [
        {
          "name": "stdout",
          "output_type": "stream",
          "text": [
            "188/188 [==============================] - 24s 127ms/step - loss: 0.4042 - accuracy: 0.8061\n"
          ]
        },
        {
          "data": {
            "text/plain": [
              "[0.40422573685646057, 0.8061333298683167]"
            ]
          },
          "execution_count": 54,
          "metadata": {},
          "output_type": "execute_result"
        }
      ],
      "source": [
        "# Model evaluation\n",
        "\n",
        "model_5.evaluate(valid_generator)"
      ]
    },
    {
      "cell_type": "code",
      "execution_count": 55,
      "metadata": {},
      "outputs": [
        {
          "name": "stdout",
          "output_type": "stream",
          "text": [
            "207/250 [=======================>......] - ETA: 14s"
          ]
        },
        {
          "name": "stderr",
          "output_type": "stream",
          "text": [
            "c:\\Users\\Luca\\AppData\\Local\\Programs\\Python\\Python39\\lib\\site-packages\\PIL\\TiffImagePlugin.py:822: UserWarning: Truncated File Read\n",
            "  warnings.warn(str(msg))\n"
          ]
        },
        {
          "name": "stdout",
          "output_type": "stream",
          "text": [
            "250/250 [==============================] - 86s 343ms/step\n"
          ]
        }
      ],
      "source": [
        "# Build predictions\n",
        "\n",
        "predictions_5 = model_5.predict(test_generator,\n",
        "                      verbose=1)"
      ]
    },
    {
      "cell_type": "code",
      "execution_count": 56,
      "metadata": {},
      "outputs": [],
      "source": [
        "# Transform model predictions' continuos output into binary categories\n",
        "\n",
        "bin_predictions_5 = pred_to_bin(predictions_5)\n",
        "\n",
        "# Associate binary number to true_label\n",
        "\n",
        "control_df_5 = build_controlDF(control_df, bin_predictions_5)\n"
      ]
    },
    {
      "cell_type": "code",
      "execution_count": 57,
      "metadata": {},
      "outputs": [
        {
          "data": {
            "text/html": [
              "<div>\n",
              "<style scoped>\n",
              "    .dataframe tbody tr th:only-of-type {\n",
              "        vertical-align: middle;\n",
              "    }\n",
              "\n",
              "    .dataframe tbody tr th {\n",
              "        vertical-align: top;\n",
              "    }\n",
              "\n",
              "    .dataframe thead th {\n",
              "        text-align: right;\n",
              "    }\n",
              "</style>\n",
              "<table border=\"1\" class=\"dataframe\">\n",
              "  <thead>\n",
              "    <tr style=\"text-align: right;\">\n",
              "      <th></th>\n",
              "      <th>Accuracy</th>\n",
              "      <th>F1_Score</th>\n",
              "      <th>Precision</th>\n",
              "      <th>Recall</th>\n",
              "      <th>Roc Score</th>\n",
              "    </tr>\n",
              "  </thead>\n",
              "  <tbody>\n",
              "    <tr>\n",
              "      <th>1</th>\n",
              "      <td>0.717990</td>\n",
              "      <td>0.714384</td>\n",
              "      <td>0.729583</td>\n",
              "      <td>0.717990</td>\n",
              "      <td>0.717990</td>\n",
              "    </tr>\n",
              "    <tr>\n",
              "      <th>2</th>\n",
              "      <td>0.801697</td>\n",
              "      <td>0.798160</td>\n",
              "      <td>0.824433</td>\n",
              "      <td>0.801697</td>\n",
              "      <td>0.801697</td>\n",
              "    </tr>\n",
              "    <tr>\n",
              "      <th>3</th>\n",
              "      <td>0.850352</td>\n",
              "      <td>0.850218</td>\n",
              "      <td>0.851612</td>\n",
              "      <td>0.850352</td>\n",
              "      <td>0.850352</td>\n",
              "    </tr>\n",
              "    <tr>\n",
              "      <th>4</th>\n",
              "      <td>0.494878</td>\n",
              "      <td>0.378043</td>\n",
              "      <td>0.479397</td>\n",
              "      <td>0.494878</td>\n",
              "      <td>0.494878</td>\n",
              "    </tr>\n",
              "    <tr>\n",
              "      <th>5</th>\n",
              "      <td>0.839309</td>\n",
              "      <td>0.839208</td>\n",
              "      <td>0.840157</td>\n",
              "      <td>0.839309</td>\n",
              "      <td>0.839309</td>\n",
              "    </tr>\n",
              "  </tbody>\n",
              "</table>\n",
              "</div>"
            ],
            "text/plain": [
              "   Accuracy  F1_Score  Precision    Recall  Roc Score\n",
              "1  0.717990  0.714384   0.729583  0.717990   0.717990\n",
              "2  0.801697  0.798160   0.824433  0.801697   0.801697\n",
              "3  0.850352  0.850218   0.851612  0.850352   0.850352\n",
              "4  0.494878  0.378043   0.479397  0.494878   0.494878\n",
              "5  0.839309  0.839208   0.840157  0.839309   0.839309"
            ]
          },
          "execution_count": 57,
          "metadata": {},
          "output_type": "execute_result"
        }
      ],
      "source": [
        "# Store model 4 results to comparison frame\n",
        "\n",
        "comparison_frame.loc[5] = evaluate_model(control_df_5.true_bin, control_df_5.prediction_binary)\n",
        "comparison_frame"
      ]
    },
    {
      "attachments": {},
      "cell_type": "markdown",
      "metadata": {},
      "source": [
        "## Model CV"
      ]
    },
    {
      "cell_type": "code",
      "execution_count": null,
      "metadata": {},
      "outputs": [],
      "source": [
        "from sklearn.model_selection import KFold, train_test_split\n",
        "import pickle\n",
        "\n",
        "train_df, valid_df = train_test_split(train_df, \n",
        "                                   test_size = 0.12, \n",
        "                                   random_state = 123)\n",
        "\n",
        "folds = KFold(n_splits=5, shuffle = True, random_state = 123)\n"
      ]
    },
    {
      "cell_type": "code",
      "execution_count": null,
      "metadata": {},
      "outputs": [],
      "source": [
        "# Definition of cross validation model\n",
        "\n",
        "image_size = (180,180,3)\n",
        "\n",
        "def model_cv_definition():\n",
        "        \n",
        "    model_cv = Sequential()\n",
        "\n",
        "    model_cv.add(Conv2D(32, (3, 3), input_shape = image_size))\n",
        "    model_cv.add(Activation('relu'))\n",
        "    model_cv.add(MaxPooling2D(pool_size=(2, 2)))\n",
        "\n",
        "    model_cv.add(Conv2D(64, (3, 3)))\n",
        "    model_cv.add(Activation('relu'))\n",
        "    model_cv.add(MaxPooling2D(pool_size=(2, 2)))\n",
        "\n",
        "    model_cv.add(Conv2D(128, (3, 3)))\n",
        "    model_cv.add(Activation('relu'))\n",
        "    model_cv.add(MaxPooling2D(pool_size=(2, 2)))\n",
        "\n",
        "    model_cv.add(Conv2D(256, (3, 3)))\n",
        "    model_cv.add(Activation('relu'))\n",
        "    model_cv.add(MaxPooling2D(pool_size=(2, 2)))\n",
        "\n",
        "\n",
        "\n",
        "    model_cv.add(Flatten())  \n",
        "    model_cv.add(Dense(512, activation='relu'))\n",
        "    \n",
        "    model_cv.add(Flatten())  \n",
        "    model_cv.add(Dense(512, activation='relu'))\n",
        "\n",
        "    model_cv.add(Flatten())  \n",
        "    model_cv.add(Dense(512, activation='relu'))\n",
        "\n",
        "    model_cv.add(Dense(1, activation=\"sigmoid\"))\n",
        "\n",
        "    return model_cv\n",
        "    "
      ]
    },
    {
      "cell_type": "code",
      "execution_count": null,
      "metadata": {},
      "outputs": [
        {
          "name": "stdout",
          "output_type": "stream",
          "text": [
            "Found 8177 validated image filenames belonging to 2 classes.\n",
            "Found 2044 validated image filenames belonging to 2 classes.\n",
            "Found 6248 validated image filenames.\n",
            "Epoch 1/8\n",
            "205/205 [==============================] - ETA: 0s - loss: 0.6943 - accuracy: 0.5133\n",
            "Epoch 1: val_accuracy improved from -inf to 0.49609, saving model to Modelcv\n"
          ]
        },
        {
          "name": "stderr",
          "output_type": "stream",
          "text": [
            "WARNING:absl:Found untraced functions such as _jit_compiled_convolution_op, _jit_compiled_convolution_op, _jit_compiled_convolution_op, _jit_compiled_convolution_op, _update_step_xla while saving (showing 5 of 5). These functions will not be directly callable after loading.\n"
          ]
        },
        {
          "name": "stdout",
          "output_type": "stream",
          "text": [
            "INFO:tensorflow:Assets written to: Modelcv\\assets\n"
          ]
        },
        {
          "name": "stderr",
          "output_type": "stream",
          "text": [
            "INFO:tensorflow:Assets written to: Modelcv\\assets\n"
          ]
        },
        {
          "name": "stdout",
          "output_type": "stream",
          "text": [
            "205/205 [==============================] - 733s 4s/step - loss: 0.6943 - accuracy: 0.5133 - val_loss: 0.6932 - val_accuracy: 0.4961\n",
            "Epoch 2/8\n",
            "205/205 [==============================] - ETA: 0s - loss: 0.6873 - accuracy: 0.5377\n",
            "Epoch 2: val_accuracy improved from 0.49609 to 0.60665, saving model to Modelcv\n"
          ]
        },
        {
          "name": "stderr",
          "output_type": "stream",
          "text": [
            "WARNING:absl:Found untraced functions such as _jit_compiled_convolution_op, _jit_compiled_convolution_op, _jit_compiled_convolution_op, _jit_compiled_convolution_op, _update_step_xla while saving (showing 5 of 5). These functions will not be directly callable after loading.\n"
          ]
        },
        {
          "name": "stdout",
          "output_type": "stream",
          "text": [
            "INFO:tensorflow:Assets written to: Modelcv\\assets\n"
          ]
        },
        {
          "name": "stderr",
          "output_type": "stream",
          "text": [
            "INFO:tensorflow:Assets written to: Modelcv\\assets\n"
          ]
        },
        {
          "name": "stdout",
          "output_type": "stream",
          "text": [
            "205/205 [==============================] - 677s 3s/step - loss: 0.6873 - accuracy: 0.5377 - val_loss: 0.6675 - val_accuracy: 0.6067\n",
            "Epoch 3/8\n",
            "205/205 [==============================] - ETA: 0s - loss: 0.6549 - accuracy: 0.6118\n",
            "Epoch 3: val_accuracy improved from 0.60665 to 0.66487, saving model to Modelcv\n"
          ]
        },
        {
          "name": "stderr",
          "output_type": "stream",
          "text": [
            "WARNING:absl:Found untraced functions such as _jit_compiled_convolution_op, _jit_compiled_convolution_op, _jit_compiled_convolution_op, _jit_compiled_convolution_op, _update_step_xla while saving (showing 5 of 5). These functions will not be directly callable after loading.\n"
          ]
        },
        {
          "name": "stdout",
          "output_type": "stream",
          "text": [
            "INFO:tensorflow:Assets written to: Modelcv\\assets\n"
          ]
        },
        {
          "name": "stderr",
          "output_type": "stream",
          "text": [
            "INFO:tensorflow:Assets written to: Modelcv\\assets\n"
          ]
        },
        {
          "name": "stdout",
          "output_type": "stream",
          "text": [
            "205/205 [==============================] - 665s 3s/step - loss: 0.6549 - accuracy: 0.6118 - val_loss: 0.6037 - val_accuracy: 0.6649\n",
            "Epoch 4/8\n",
            "205/205 [==============================] - ETA: 0s - loss: 0.5817 - accuracy: 0.6957\n",
            "Epoch 4: val_accuracy improved from 0.66487 to 0.72603, saving model to Modelcv\n"
          ]
        },
        {
          "name": "stderr",
          "output_type": "stream",
          "text": [
            "WARNING:absl:Found untraced functions such as _jit_compiled_convolution_op, _jit_compiled_convolution_op, _jit_compiled_convolution_op, _jit_compiled_convolution_op, _update_step_xla while saving (showing 5 of 5). These functions will not be directly callable after loading.\n"
          ]
        },
        {
          "name": "stdout",
          "output_type": "stream",
          "text": [
            "INFO:tensorflow:Assets written to: Modelcv\\assets\n"
          ]
        },
        {
          "name": "stderr",
          "output_type": "stream",
          "text": [
            "INFO:tensorflow:Assets written to: Modelcv\\assets\n"
          ]
        },
        {
          "name": "stdout",
          "output_type": "stream",
          "text": [
            "205/205 [==============================] - 635s 3s/step - loss: 0.5817 - accuracy: 0.6957 - val_loss: 0.5798 - val_accuracy: 0.7260\n",
            "Epoch 5/8\n",
            "205/205 [==============================] - ETA: 0s - loss: 0.5134 - accuracy: 0.7516\n",
            "Epoch 5: val_accuracy improved from 0.72603 to 0.77348, saving model to Modelcv\n"
          ]
        },
        {
          "name": "stderr",
          "output_type": "stream",
          "text": [
            "WARNING:absl:Found untraced functions such as _jit_compiled_convolution_op, _jit_compiled_convolution_op, _jit_compiled_convolution_op, _jit_compiled_convolution_op, _update_step_xla while saving (showing 5 of 5). These functions will not be directly callable after loading.\n"
          ]
        },
        {
          "name": "stdout",
          "output_type": "stream",
          "text": [
            "INFO:tensorflow:Assets written to: Modelcv\\assets\n"
          ]
        },
        {
          "name": "stderr",
          "output_type": "stream",
          "text": [
            "INFO:tensorflow:Assets written to: Modelcv\\assets\n"
          ]
        },
        {
          "name": "stdout",
          "output_type": "stream",
          "text": [
            "205/205 [==============================] - 650s 3s/step - loss: 0.5134 - accuracy: 0.7516 - val_loss: 0.5005 - val_accuracy: 0.7735\n",
            "Epoch 6/8\n",
            "205/205 [==============================] - ETA: 0s - loss: 0.4423 - accuracy: 0.7930\n",
            "Epoch 6: val_accuracy improved from 0.77348 to 0.78131, saving model to Modelcv\n"
          ]
        },
        {
          "name": "stderr",
          "output_type": "stream",
          "text": [
            "WARNING:absl:Found untraced functions such as _jit_compiled_convolution_op, _jit_compiled_convolution_op, _jit_compiled_convolution_op, _jit_compiled_convolution_op, _update_step_xla while saving (showing 5 of 5). These functions will not be directly callable after loading.\n"
          ]
        },
        {
          "name": "stdout",
          "output_type": "stream",
          "text": [
            "INFO:tensorflow:Assets written to: Modelcv\\assets\n"
          ]
        },
        {
          "name": "stderr",
          "output_type": "stream",
          "text": [
            "INFO:tensorflow:Assets written to: Modelcv\\assets\n"
          ]
        },
        {
          "name": "stdout",
          "output_type": "stream",
          "text": [
            "205/205 [==============================] - 619s 3s/step - loss: 0.4423 - accuracy: 0.7930 - val_loss: 0.4723 - val_accuracy: 0.7813\n",
            "Epoch 7/8\n",
            "205/205 [==============================] - ETA: 0s - loss: 0.3958 - accuracy: 0.8212\n",
            "Epoch 7: val_accuracy improved from 0.78131 to 0.79795, saving model to Modelcv\n"
          ]
        },
        {
          "name": "stderr",
          "output_type": "stream",
          "text": [
            "WARNING:absl:Found untraced functions such as _jit_compiled_convolution_op, _jit_compiled_convolution_op, _jit_compiled_convolution_op, _jit_compiled_convolution_op, _update_step_xla while saving (showing 5 of 5). These functions will not be directly callable after loading.\n"
          ]
        },
        {
          "name": "stdout",
          "output_type": "stream",
          "text": [
            "INFO:tensorflow:Assets written to: Modelcv\\assets\n"
          ]
        },
        {
          "name": "stderr",
          "output_type": "stream",
          "text": [
            "INFO:tensorflow:Assets written to: Modelcv\\assets\n"
          ]
        },
        {
          "name": "stdout",
          "output_type": "stream",
          "text": [
            "205/205 [==============================] - 616s 3s/step - loss: 0.3958 - accuracy: 0.8212 - val_loss: 0.4749 - val_accuracy: 0.7979\n",
            "Epoch 8/8\n",
            "205/205 [==============================] - ETA: 0s - loss: 0.3424 - accuracy: 0.8480\n",
            "Epoch 8: val_accuracy improved from 0.79795 to 0.81507, saving model to Modelcv\n"
          ]
        },
        {
          "name": "stderr",
          "output_type": "stream",
          "text": [
            "WARNING:absl:Found untraced functions such as _jit_compiled_convolution_op, _jit_compiled_convolution_op, _jit_compiled_convolution_op, _jit_compiled_convolution_op, _update_step_xla while saving (showing 5 of 5). These functions will not be directly callable after loading.\n"
          ]
        },
        {
          "name": "stdout",
          "output_type": "stream",
          "text": [
            "INFO:tensorflow:Assets written to: Modelcv\\assets\n"
          ]
        },
        {
          "name": "stderr",
          "output_type": "stream",
          "text": [
            "INFO:tensorflow:Assets written to: Modelcv\\assets\n"
          ]
        },
        {
          "name": "stdout",
          "output_type": "stream",
          "text": [
            "205/205 [==============================] - 615s 3s/step - loss: 0.3424 - accuracy: 0.8480 - val_loss: 0.4294 - val_accuracy: 0.8151\n",
            "208/250 [=======================>......] - ETA: 12s - loss: 0.0000e+00 - accuracy: 0.0000e+00"
          ]
        },
        {
          "name": "stderr",
          "output_type": "stream",
          "text": [
            "c:\\Users\\Luca\\AppData\\Local\\Programs\\Python\\Python39\\lib\\site-packages\\PIL\\TiffImagePlugin.py:822: UserWarning: Truncated File Read\n",
            "  warnings.warn(str(msg))\n"
          ]
        },
        {
          "name": "stdout",
          "output_type": "stream",
          "text": [
            "250/250 [==============================] - 73s 288ms/step - loss: 0.0000e+00 - accuracy: 0.0000e+00\n",
            "Found 8177 validated image filenames belonging to 2 classes.\n",
            "Found 2044 validated image filenames belonging to 2 classes.\n",
            "Found 6248 validated image filenames.\n",
            "Epoch 1/8\n",
            "205/205 [==============================] - ETA: 0s - loss: 0.6942 - accuracy: 0.5105\n",
            "Epoch 1: val_accuracy did not improve from 0.81507\n",
            "205/205 [==============================] - 629s 3s/step - loss: 0.6942 - accuracy: 0.5105 - val_loss: 0.6932 - val_accuracy: 0.4936\n",
            "Epoch 2/8\n",
            "205/205 [==============================] - ETA: 0s - loss: 0.6885 - accuracy: 0.5249\n",
            "Epoch 2: val_accuracy did not improve from 0.81507\n",
            "205/205 [==============================] - 617s 3s/step - loss: 0.6885 - accuracy: 0.5249 - val_loss: 0.6836 - val_accuracy: 0.5680\n",
            "Epoch 3/8\n",
            "205/205 [==============================] - ETA: 0s - loss: 0.6639 - accuracy: 0.6003\n",
            "Epoch 3: val_accuracy did not improve from 0.81507\n",
            "205/205 [==============================] - 1629s 3s/step - loss: 0.6639 - accuracy: 0.6003 - val_loss: 0.6175 - val_accuracy: 0.6737\n",
            "Epoch 4/8\n",
            "205/205 [==============================] - ETA: 0s - loss: 0.5987 - accuracy: 0.6848\n",
            "Epoch 4: val_accuracy did not improve from 0.81507\n",
            "205/205 [==============================] - 639s 3s/step - loss: 0.5987 - accuracy: 0.6848 - val_loss: 0.5662 - val_accuracy: 0.7172\n",
            "Epoch 5/8\n",
            "205/205 [==============================] - ETA: 0s - loss: 0.5269 - accuracy: 0.7328\n",
            "Epoch 5: val_accuracy did not improve from 0.81507\n",
            "205/205 [==============================] - 617s 3s/step - loss: 0.5269 - accuracy: 0.7328 - val_loss: 0.5090 - val_accuracy: 0.7529\n",
            "Epoch 6/8\n",
            "205/205 [==============================] - ETA: 0s - loss: 0.4368 - accuracy: 0.7977\n",
            "Epoch 6: val_accuracy did not improve from 0.81507\n",
            "205/205 [==============================] - 615s 3s/step - loss: 0.4368 - accuracy: 0.7977 - val_loss: 0.4897 - val_accuracy: 0.7686\n",
            "Epoch 7/8\n",
            "205/205 [==============================] - ETA: 0s - loss: 0.3409 - accuracy: 0.8477\n",
            "Epoch 7: val_accuracy did not improve from 0.81507\n",
            "205/205 [==============================] - 616s 3s/step - loss: 0.3409 - accuracy: 0.8477 - val_loss: 0.5107 - val_accuracy: 0.7818\n",
            "Epoch 8/8\n",
            "205/205 [==============================] - ETA: 0s - loss: 0.2374 - accuracy: 0.9027\n",
            "Epoch 8: val_accuracy did not improve from 0.81507\n",
            "205/205 [==============================] - 628s 3s/step - loss: 0.2374 - accuracy: 0.9027 - val_loss: 0.6293 - val_accuracy: 0.7627\n",
            "209/250 [========================>.....] - ETA: 4s - loss: 0.0000e+00 - accuracy: 0.0000e+00"
          ]
        },
        {
          "name": "stderr",
          "output_type": "stream",
          "text": [
            "c:\\Users\\Luca\\AppData\\Local\\Programs\\Python\\Python39\\lib\\site-packages\\PIL\\TiffImagePlugin.py:822: UserWarning: Truncated File Read\n",
            "  warnings.warn(str(msg))\n"
          ]
        },
        {
          "name": "stdout",
          "output_type": "stream",
          "text": [
            "250/250 [==============================] - 31s 121ms/step - loss: 0.0000e+00 - accuracy: 0.0000e+00\n",
            "Found 8178 validated image filenames belonging to 2 classes.\n",
            "Found 2044 validated image filenames belonging to 2 classes.\n",
            "Found 6248 validated image filenames.\n",
            "Epoch 1/8\n",
            "205/205 [==============================] - ETA: 0s - loss: 0.6929 - accuracy: 0.5067\n",
            "Epoch 1: val_accuracy did not improve from 0.81507\n",
            "205/205 [==============================] - 625s 3s/step - loss: 0.6929 - accuracy: 0.5067 - val_loss: 0.6933 - val_accuracy: 0.4990\n",
            "Epoch 2/8\n",
            "205/205 [==============================] - ETA: 0s - loss: 0.6885 - accuracy: 0.5300\n",
            "Epoch 2: val_accuracy did not improve from 0.81507\n",
            "205/205 [==============================] - 625s 3s/step - loss: 0.6885 - accuracy: 0.5300 - val_loss: 0.6887 - val_accuracy: 0.5426\n",
            "Epoch 3/8\n",
            "205/205 [==============================] - ETA: 0s - loss: 0.6694 - accuracy: 0.5896\n",
            "Epoch 3: val_accuracy did not improve from 0.81507\n",
            "205/205 [==============================] - 620s 3s/step - loss: 0.6694 - accuracy: 0.5896 - val_loss: 0.6502 - val_accuracy: 0.5871\n",
            "Epoch 4/8\n",
            "205/205 [==============================] - ETA: 0s - loss: 0.5941 - accuracy: 0.6829\n",
            "Epoch 4: val_accuracy did not improve from 0.81507\n",
            "205/205 [==============================] - 619s 3s/step - loss: 0.5941 - accuracy: 0.6829 - val_loss: 0.5672 - val_accuracy: 0.7206\n",
            "Epoch 5/8\n",
            "  8/205 [>.............................] - ETA: 10:16 - loss: 0.5525 - accuracy: 0.7063"
          ]
        },
        {
          "ename": "KeyboardInterrupt",
          "evalue": "",
          "output_type": "error",
          "traceback": [
            "\u001b[1;31m---------------------------------------------------------------------------\u001b[0m",
            "\u001b[1;31mKeyboardInterrupt\u001b[0m                         Traceback (most recent call last)",
            "\u001b[1;32mc:\\Users\\Luca\\Desktop\\DSE\\ml\\Project\\images\\ML_Trial.ipynb Cell 64\u001b[0m in \u001b[0;36m<module>\u001b[1;34m\u001b[0m\n\u001b[0;32m     <a href='vscode-notebook-cell:/c%3A/Users/Luca/Desktop/DSE/ml/Project/images/ML_Trial.ipynb#Y115sZmlsZQ%3D%3D?line=71'>72</a>\u001b[0m     tensorboard \u001b[39m=\u001b[39m keras\u001b[39m.\u001b[39mcallbacks\u001b[39m.\u001b[39mTensorBoard(log_dir \u001b[39m=\u001b[39m \u001b[39m\"\u001b[39m\u001b[39m./results\u001b[39m\u001b[39m\"\u001b[39m)\n\u001b[0;32m     <a href='vscode-notebook-cell:/c%3A/Users/Luca/Desktop/DSE/ml/Project/images/ML_Trial.ipynb#Y115sZmlsZQ%3D%3D?line=74'>75</a>\u001b[0m     \u001b[39m# Model FIT\u001b[39;00m\n\u001b[1;32m---> <a href='vscode-notebook-cell:/c%3A/Users/Luca/Desktop/DSE/ml/Project/images/ML_Trial.ipynb#Y115sZmlsZQ%3D%3D?line=76'>77</a>\u001b[0m     model_cv_fit \u001b[39m=\u001b[39m  model_cv\u001b[39m.\u001b[39;49mfit(train_generator,\n\u001b[0;32m     <a href='vscode-notebook-cell:/c%3A/Users/Luca/Desktop/DSE/ml/Project/images/ML_Trial.ipynb#Y115sZmlsZQ%3D%3D?line=77'>78</a>\u001b[0m             validation_data\u001b[39m=\u001b[39;49minner_test,\n\u001b[0;32m     <a href='vscode-notebook-cell:/c%3A/Users/Luca/Desktop/DSE/ml/Project/images/ML_Trial.ipynb#Y115sZmlsZQ%3D%3D?line=78'>79</a>\u001b[0m             epochs \u001b[39m=\u001b[39;49m \u001b[39m8\u001b[39;49m, \n\u001b[0;32m     <a href='vscode-notebook-cell:/c%3A/Users/Luca/Desktop/DSE/ml/Project/images/ML_Trial.ipynb#Y115sZmlsZQ%3D%3D?line=79'>80</a>\u001b[0m             use_multiprocessing\u001b[39m=\u001b[39;49m\u001b[39mFalse\u001b[39;49;00m, \n\u001b[0;32m     <a href='vscode-notebook-cell:/c%3A/Users/Luca/Desktop/DSE/ml/Project/images/ML_Trial.ipynb#Y115sZmlsZQ%3D%3D?line=80'>81</a>\u001b[0m             workers \u001b[39m=\u001b[39;49m \u001b[39m20\u001b[39;49m,\n\u001b[0;32m     <a href='vscode-notebook-cell:/c%3A/Users/Luca/Desktop/DSE/ml/Project/images/ML_Trial.ipynb#Y115sZmlsZQ%3D%3D?line=81'>82</a>\u001b[0m             verbose \u001b[39m=\u001b[39;49m \u001b[39m1\u001b[39;49m,\n\u001b[0;32m     <a href='vscode-notebook-cell:/c%3A/Users/Luca/Desktop/DSE/ml/Project/images/ML_Trial.ipynb#Y115sZmlsZQ%3D%3D?line=82'>83</a>\u001b[0m             callbacks\u001b[39m=\u001b[39;49m[tensorboard, callback, model_cv_checkpoint]\n\u001b[0;32m     <a href='vscode-notebook-cell:/c%3A/Users/Luca/Desktop/DSE/ml/Project/images/ML_Trial.ipynb#Y115sZmlsZQ%3D%3D?line=83'>84</a>\u001b[0m )\n\u001b[0;32m     <a href='vscode-notebook-cell:/c%3A/Users/Luca/Desktop/DSE/ml/Project/images/ML_Trial.ipynb#Y115sZmlsZQ%3D%3D?line=87'>88</a>\u001b[0m     \u001b[39mwith\u001b[39;00m \u001b[39mopen\u001b[39m(\u001b[39mf\u001b[39m\u001b[39m'\u001b[39m\u001b[39m./trainHistory\u001b[39m\u001b[39m{\u001b[39;00mcount\u001b[39m}\u001b[39;00m\u001b[39m'\u001b[39m, \u001b[39m'\u001b[39m\u001b[39mwb\u001b[39m\u001b[39m'\u001b[39m) \u001b[39mas\u001b[39;00m file:\n\u001b[0;32m     <a href='vscode-notebook-cell:/c%3A/Users/Luca/Desktop/DSE/ml/Project/images/ML_Trial.ipynb#Y115sZmlsZQ%3D%3D?line=88'>89</a>\u001b[0m         pickle\u001b[39m.\u001b[39mdump(model_cv_fit\u001b[39m.\u001b[39mhistory, file)\n",
            "File \u001b[1;32mc:\\Users\\Luca\\AppData\\Local\\Programs\\Python\\Python39\\lib\\site-packages\\keras\\utils\\traceback_utils.py:65\u001b[0m, in \u001b[0;36mfilter_traceback.<locals>.error_handler\u001b[1;34m(*args, **kwargs)\u001b[0m\n\u001b[0;32m     63\u001b[0m filtered_tb \u001b[39m=\u001b[39m \u001b[39mNone\u001b[39;00m\n\u001b[0;32m     64\u001b[0m \u001b[39mtry\u001b[39;00m:\n\u001b[1;32m---> 65\u001b[0m     \u001b[39mreturn\u001b[39;00m fn(\u001b[39m*\u001b[39margs, \u001b[39m*\u001b[39m\u001b[39m*\u001b[39mkwargs)\n\u001b[0;32m     66\u001b[0m \u001b[39mexcept\u001b[39;00m \u001b[39mException\u001b[39;00m \u001b[39mas\u001b[39;00m e:\n\u001b[0;32m     67\u001b[0m     filtered_tb \u001b[39m=\u001b[39m _process_traceback_frames(e\u001b[39m.\u001b[39m__traceback__)\n",
            "File \u001b[1;32mc:\\Users\\Luca\\AppData\\Local\\Programs\\Python\\Python39\\lib\\site-packages\\keras\\engine\\training.py:1650\u001b[0m, in \u001b[0;36mModel.fit\u001b[1;34m(self, x, y, batch_size, epochs, verbose, callbacks, validation_split, validation_data, shuffle, class_weight, sample_weight, initial_epoch, steps_per_epoch, validation_steps, validation_batch_size, validation_freq, max_queue_size, workers, use_multiprocessing)\u001b[0m\n\u001b[0;32m   1642\u001b[0m \u001b[39mwith\u001b[39;00m tf\u001b[39m.\u001b[39mprofiler\u001b[39m.\u001b[39mexperimental\u001b[39m.\u001b[39mTrace(\n\u001b[0;32m   1643\u001b[0m     \u001b[39m\"\u001b[39m\u001b[39mtrain\u001b[39m\u001b[39m\"\u001b[39m,\n\u001b[0;32m   1644\u001b[0m     epoch_num\u001b[39m=\u001b[39mepoch,\n\u001b[1;32m   (...)\u001b[0m\n\u001b[0;32m   1647\u001b[0m     _r\u001b[39m=\u001b[39m\u001b[39m1\u001b[39m,\n\u001b[0;32m   1648\u001b[0m ):\n\u001b[0;32m   1649\u001b[0m     callbacks\u001b[39m.\u001b[39mon_train_batch_begin(step)\n\u001b[1;32m-> 1650\u001b[0m     tmp_logs \u001b[39m=\u001b[39m \u001b[39mself\u001b[39;49m\u001b[39m.\u001b[39;49mtrain_function(iterator)\n\u001b[0;32m   1651\u001b[0m     \u001b[39mif\u001b[39;00m data_handler\u001b[39m.\u001b[39mshould_sync:\n\u001b[0;32m   1652\u001b[0m         context\u001b[39m.\u001b[39masync_wait()\n",
            "File \u001b[1;32mc:\\Users\\Luca\\AppData\\Local\\Programs\\Python\\Python39\\lib\\site-packages\\tensorflow\\python\\util\\traceback_utils.py:150\u001b[0m, in \u001b[0;36mfilter_traceback.<locals>.error_handler\u001b[1;34m(*args, **kwargs)\u001b[0m\n\u001b[0;32m    148\u001b[0m filtered_tb \u001b[39m=\u001b[39m \u001b[39mNone\u001b[39;00m\n\u001b[0;32m    149\u001b[0m \u001b[39mtry\u001b[39;00m:\n\u001b[1;32m--> 150\u001b[0m   \u001b[39mreturn\u001b[39;00m fn(\u001b[39m*\u001b[39margs, \u001b[39m*\u001b[39m\u001b[39m*\u001b[39mkwargs)\n\u001b[0;32m    151\u001b[0m \u001b[39mexcept\u001b[39;00m \u001b[39mException\u001b[39;00m \u001b[39mas\u001b[39;00m e:\n\u001b[0;32m    152\u001b[0m   filtered_tb \u001b[39m=\u001b[39m _process_traceback_frames(e\u001b[39m.\u001b[39m__traceback__)\n",
            "File \u001b[1;32mc:\\Users\\Luca\\AppData\\Local\\Programs\\Python\\Python39\\lib\\site-packages\\tensorflow\\python\\eager\\polymorphic_function\\polymorphic_function.py:880\u001b[0m, in \u001b[0;36mFunction.__call__\u001b[1;34m(self, *args, **kwds)\u001b[0m\n\u001b[0;32m    877\u001b[0m compiler \u001b[39m=\u001b[39m \u001b[39m\"\u001b[39m\u001b[39mxla\u001b[39m\u001b[39m\"\u001b[39m \u001b[39mif\u001b[39;00m \u001b[39mself\u001b[39m\u001b[39m.\u001b[39m_jit_compile \u001b[39melse\u001b[39;00m \u001b[39m\"\u001b[39m\u001b[39mnonXla\u001b[39m\u001b[39m\"\u001b[39m\n\u001b[0;32m    879\u001b[0m \u001b[39mwith\u001b[39;00m OptionalXlaContext(\u001b[39mself\u001b[39m\u001b[39m.\u001b[39m_jit_compile):\n\u001b[1;32m--> 880\u001b[0m   result \u001b[39m=\u001b[39m \u001b[39mself\u001b[39m\u001b[39m.\u001b[39m_call(\u001b[39m*\u001b[39margs, \u001b[39m*\u001b[39m\u001b[39m*\u001b[39mkwds)\n\u001b[0;32m    882\u001b[0m new_tracing_count \u001b[39m=\u001b[39m \u001b[39mself\u001b[39m\u001b[39m.\u001b[39mexperimental_get_tracing_count()\n\u001b[0;32m    883\u001b[0m without_tracing \u001b[39m=\u001b[39m (tracing_count \u001b[39m==\u001b[39m new_tracing_count)\n",
            "File \u001b[1;32mc:\\Users\\Luca\\AppData\\Local\\Programs\\Python\\Python39\\lib\\site-packages\\tensorflow\\python\\eager\\polymorphic_function\\polymorphic_function.py:912\u001b[0m, in \u001b[0;36mFunction._call\u001b[1;34m(self, *args, **kwds)\u001b[0m\n\u001b[0;32m    909\u001b[0m   \u001b[39mself\u001b[39m\u001b[39m.\u001b[39m_lock\u001b[39m.\u001b[39mrelease()\n\u001b[0;32m    910\u001b[0m   \u001b[39m# In this case we have created variables on the first call, so we run the\u001b[39;00m\n\u001b[0;32m    911\u001b[0m   \u001b[39m# defunned version which is guaranteed to never create variables.\u001b[39;00m\n\u001b[1;32m--> 912\u001b[0m   \u001b[39mreturn\u001b[39;00m \u001b[39mself\u001b[39m\u001b[39m.\u001b[39m_no_variable_creation_fn(\u001b[39m*\u001b[39margs, \u001b[39m*\u001b[39m\u001b[39m*\u001b[39mkwds)  \u001b[39m# pylint: disable=not-callable\u001b[39;00m\n\u001b[0;32m    913\u001b[0m \u001b[39melif\u001b[39;00m \u001b[39mself\u001b[39m\u001b[39m.\u001b[39m_variable_creation_fn \u001b[39mis\u001b[39;00m \u001b[39mnot\u001b[39;00m \u001b[39mNone\u001b[39;00m:\n\u001b[0;32m    914\u001b[0m   \u001b[39m# Release the lock early so that multiple threads can perform the call\u001b[39;00m\n\u001b[0;32m    915\u001b[0m   \u001b[39m# in parallel.\u001b[39;00m\n\u001b[0;32m    916\u001b[0m   \u001b[39mself\u001b[39m\u001b[39m.\u001b[39m_lock\u001b[39m.\u001b[39mrelease()\n",
            "File \u001b[1;32mc:\\Users\\Luca\\AppData\\Local\\Programs\\Python\\Python39\\lib\\site-packages\\tensorflow\\python\\eager\\polymorphic_function\\tracing_compiler.py:134\u001b[0m, in \u001b[0;36mTracingCompiler.__call__\u001b[1;34m(self, *args, **kwargs)\u001b[0m\n\u001b[0;32m    131\u001b[0m \u001b[39mwith\u001b[39;00m \u001b[39mself\u001b[39m\u001b[39m.\u001b[39m_lock:\n\u001b[0;32m    132\u001b[0m   (concrete_function,\n\u001b[0;32m    133\u001b[0m    filtered_flat_args) \u001b[39m=\u001b[39m \u001b[39mself\u001b[39m\u001b[39m.\u001b[39m_maybe_define_function(args, kwargs)\n\u001b[1;32m--> 134\u001b[0m \u001b[39mreturn\u001b[39;00m concrete_function\u001b[39m.\u001b[39;49m_call_flat(\n\u001b[0;32m    135\u001b[0m     filtered_flat_args, captured_inputs\u001b[39m=\u001b[39;49mconcrete_function\u001b[39m.\u001b[39;49mcaptured_inputs)\n",
            "File \u001b[1;32mc:\\Users\\Luca\\AppData\\Local\\Programs\\Python\\Python39\\lib\\site-packages\\tensorflow\\python\\eager\\polymorphic_function\\monomorphic_function.py:1745\u001b[0m, in \u001b[0;36mConcreteFunction._call_flat\u001b[1;34m(self, args, captured_inputs, cancellation_manager)\u001b[0m\n\u001b[0;32m   1741\u001b[0m possible_gradient_type \u001b[39m=\u001b[39m gradients_util\u001b[39m.\u001b[39mPossibleTapeGradientTypes(args)\n\u001b[0;32m   1742\u001b[0m \u001b[39mif\u001b[39;00m (possible_gradient_type \u001b[39m==\u001b[39m gradients_util\u001b[39m.\u001b[39mPOSSIBLE_GRADIENT_TYPES_NONE\n\u001b[0;32m   1743\u001b[0m     \u001b[39mand\u001b[39;00m executing_eagerly):\n\u001b[0;32m   1744\u001b[0m   \u001b[39m# No tape is watching; skip to running the function.\u001b[39;00m\n\u001b[1;32m-> 1745\u001b[0m   \u001b[39mreturn\u001b[39;00m \u001b[39mself\u001b[39m\u001b[39m.\u001b[39m_build_call_outputs(\u001b[39mself\u001b[39;49m\u001b[39m.\u001b[39;49m_inference_function\u001b[39m.\u001b[39;49mcall(\n\u001b[0;32m   1746\u001b[0m       ctx, args, cancellation_manager\u001b[39m=\u001b[39;49mcancellation_manager))\n\u001b[0;32m   1747\u001b[0m forward_backward \u001b[39m=\u001b[39m \u001b[39mself\u001b[39m\u001b[39m.\u001b[39m_select_forward_and_backward_functions(\n\u001b[0;32m   1748\u001b[0m     args,\n\u001b[0;32m   1749\u001b[0m     possible_gradient_type,\n\u001b[0;32m   1750\u001b[0m     executing_eagerly)\n\u001b[0;32m   1751\u001b[0m forward_function, args_with_tangents \u001b[39m=\u001b[39m forward_backward\u001b[39m.\u001b[39mforward()\n",
            "File \u001b[1;32mc:\\Users\\Luca\\AppData\\Local\\Programs\\Python\\Python39\\lib\\site-packages\\tensorflow\\python\\eager\\polymorphic_function\\monomorphic_function.py:378\u001b[0m, in \u001b[0;36m_EagerDefinedFunction.call\u001b[1;34m(self, ctx, args, cancellation_manager)\u001b[0m\n\u001b[0;32m    376\u001b[0m \u001b[39mwith\u001b[39;00m _InterpolateFunctionError(\u001b[39mself\u001b[39m):\n\u001b[0;32m    377\u001b[0m   \u001b[39mif\u001b[39;00m cancellation_manager \u001b[39mis\u001b[39;00m \u001b[39mNone\u001b[39;00m:\n\u001b[1;32m--> 378\u001b[0m     outputs \u001b[39m=\u001b[39m execute\u001b[39m.\u001b[39;49mexecute(\n\u001b[0;32m    379\u001b[0m         \u001b[39mstr\u001b[39;49m(\u001b[39mself\u001b[39;49m\u001b[39m.\u001b[39;49msignature\u001b[39m.\u001b[39;49mname),\n\u001b[0;32m    380\u001b[0m         num_outputs\u001b[39m=\u001b[39;49m\u001b[39mself\u001b[39;49m\u001b[39m.\u001b[39;49m_num_outputs,\n\u001b[0;32m    381\u001b[0m         inputs\u001b[39m=\u001b[39;49margs,\n\u001b[0;32m    382\u001b[0m         attrs\u001b[39m=\u001b[39;49mattrs,\n\u001b[0;32m    383\u001b[0m         ctx\u001b[39m=\u001b[39;49mctx)\n\u001b[0;32m    384\u001b[0m   \u001b[39melse\u001b[39;00m:\n\u001b[0;32m    385\u001b[0m     outputs \u001b[39m=\u001b[39m execute\u001b[39m.\u001b[39mexecute_with_cancellation(\n\u001b[0;32m    386\u001b[0m         \u001b[39mstr\u001b[39m(\u001b[39mself\u001b[39m\u001b[39m.\u001b[39msignature\u001b[39m.\u001b[39mname),\n\u001b[0;32m    387\u001b[0m         num_outputs\u001b[39m=\u001b[39m\u001b[39mself\u001b[39m\u001b[39m.\u001b[39m_num_outputs,\n\u001b[1;32m   (...)\u001b[0m\n\u001b[0;32m    390\u001b[0m         ctx\u001b[39m=\u001b[39mctx,\n\u001b[0;32m    391\u001b[0m         cancellation_manager\u001b[39m=\u001b[39mcancellation_manager)\n",
            "File \u001b[1;32mc:\\Users\\Luca\\AppData\\Local\\Programs\\Python\\Python39\\lib\\site-packages\\tensorflow\\python\\eager\\execute.py:52\u001b[0m, in \u001b[0;36mquick_execute\u001b[1;34m(op_name, num_outputs, inputs, attrs, ctx, name)\u001b[0m\n\u001b[0;32m     50\u001b[0m \u001b[39mtry\u001b[39;00m:\n\u001b[0;32m     51\u001b[0m   ctx\u001b[39m.\u001b[39mensure_initialized()\n\u001b[1;32m---> 52\u001b[0m   tensors \u001b[39m=\u001b[39m pywrap_tfe\u001b[39m.\u001b[39;49mTFE_Py_Execute(ctx\u001b[39m.\u001b[39;49m_handle, device_name, op_name,\n\u001b[0;32m     53\u001b[0m                                       inputs, attrs, num_outputs)\n\u001b[0;32m     54\u001b[0m \u001b[39mexcept\u001b[39;00m core\u001b[39m.\u001b[39m_NotOkStatusException \u001b[39mas\u001b[39;00m e:\n\u001b[0;32m     55\u001b[0m   \u001b[39mif\u001b[39;00m name \u001b[39mis\u001b[39;00m \u001b[39mnot\u001b[39;00m \u001b[39mNone\u001b[39;00m:\n",
            "\u001b[1;31mKeyboardInterrupt\u001b[0m: "
          ]
        }
      ],
      "source": [
        "# Define generators\n",
        "image_generator = ImageDataGenerator(rescale=1/255, validation_split=0.2) # rescaling data to 0 and 1, 1/255 due to the fact that it is RGB data\n",
        "test_image_generator = ImageDataGenerator(rescale=1/255)\n",
        "count = 1 # To keep track of the fold count\n",
        "\n",
        "# Define checkpoint for the model\n",
        "\n",
        "model_cv_checkpoint = ModelCheckpoint(\"Modelcv\", monitor=\"val_accuracy\", verbose=1, save_best_only=True, mode=\"max\")\n",
        "#callback = tf.keras.callbacks.EarlyStopping(monitor='val_accuracy', patience=3)\n",
        "\n",
        "# Cross validation\n",
        "\n",
        "for train_index, inner_test_index in folds.split(train_df):\n",
        "    training_data = train_df.iloc[train_index]\n",
        "    inner_test_data = train_df.iloc[inner_test_index]\n",
        "\n",
        "\n",
        "    train_generator = image_generator.flow_from_dataframe(\n",
        "                                            dataframe=training_data,\n",
        "                                            directory=\"./train\",\n",
        "                                            x_col=\"id\",\n",
        "                                            y_col=\"label\",\n",
        "                                            subset=\"training\",\n",
        "                                            batch_size=40,\n",
        "                                            seed=42,\n",
        "                                            shuffle=True,\n",
        "                                            class_mode=\"binary\",\n",
        "                                            target_size=image_size[0:2],\n",
        "                                            color_mode=\"rgb\")\n",
        "    \n",
        "    inner_test = image_generator.flow_from_dataframe(\n",
        "                                                    dataframe=training_data,\n",
        "                                                    directory=\"./train\",\n",
        "                                                    x_col=\"id\",\n",
        "                                                    y_col=\"label\",\n",
        "                                                    subset=\"validation\",\n",
        "                                                    batch_size=20,\n",
        "                                                    seed=42,\n",
        "                                                    shuffle=True,\n",
        "                                                    class_mode=\"binary\",\n",
        "                                                    target_size=image_size[0:2],\n",
        "                                                    color_mode=\"rgb\")\n",
        "\n",
        "    \n",
        "    outer_test = test_image_generator.flow_from_dataframe(\n",
        "                                                    dataframe=test_df,\n",
        "                                                    directory=\"./test\",\n",
        "                                                    x_col=\"id\",\n",
        "                                                    y_col=None,\n",
        "                                                    batch_size=25,\n",
        "                                                    seed=42,\n",
        "                                                    shuffle=False,\n",
        "                                                    class_mode=None,\n",
        "                                                    target_size=image_size[0:2],\n",
        "                                                    color_mode=\"rgb\")\n",
        "\n",
        "\n",
        "\n",
        "    # Define model \n",
        "\n",
        "    model_cv = model_cv_definition()\n",
        "\n",
        "    # Compile the model\n",
        "\n",
        "    model_cv.compile(loss='binary_crossentropy',\n",
        "              optimizer=\"adam\",\n",
        "              metrics=['accuracy'])\n",
        "\n",
        "\n",
        "\n",
        "\n",
        "    # Model FIT\n",
        "    \n",
        "    model_cv_fit =  model_cv.fit(train_generator,\n",
        "            validation_data=inner_test,\n",
        "            epochs = 8, \n",
        "            use_multiprocessing=False, \n",
        "            workers = 20,\n",
        "            verbose = 1,\n",
        "            callbacks=[model_cv_checkpoint]\n",
        ")\n",
        "\n",
        "    # Free GPU \n",
        "\n",
        "    tf.keras.backend.clear_session()\n"
      ]
    },
    {
      "cell_type": "code",
      "execution_count": null,
      "metadata": {
        "colab": {
          "base_uri": "https://localhost:8080/",
          "height": 581
        },
        "id": "U6mEM4cdJtu7",
        "outputId": "7fb7fcae-362d-4950-814c-5bde39916ccb"
      },
      "outputs": [
        {
          "data": {
            "image/png": "[encoded data removed]",
            "text/plain": [
              "<Figure size 432x288 with 1 Axes>"
            ]
          },
          "metadata": {},
          "output_type": "display_data"
        },
        {
          "data": {
            "image/png": "[encoded data removed]",
            "text/plain": [
              "<Figure size 432x288 with 1 Axes>"
            ]
          },
          "metadata": {},
          "output_type": "display_data"
        }
      ],
      "source": [
        "# Loss and accuracy curve visualisation\n",
        "\n",
        "loss_curve_plot(model_cv_fit)\n",
        "accuracy_curve_plot(model_cv_fit)"
      ]
    },
    {
      "cell_type": "code",
      "execution_count": null,
      "metadata": {
        "colab": {
          "base_uri": "https://localhost:8080/"
        },
        "id": "q0SdC8DCGk_W",
        "outputId": "03e01405-797a-45e2-da47-1bbd5bff08b6"
      },
      "outputs": [
        {
          "name": "stdout",
          "output_type": "stream",
          "text": [
            "207/250 [=======================>......] - ETA: 27s"
          ]
        },
        {
          "name": "stderr",
          "output_type": "stream",
          "text": [
            "c:\\Users\\Luca\\AppData\\Local\\Programs\\Python\\Python39\\lib\\site-packages\\PIL\\TiffImagePlugin.py:822: UserWarning: Truncated File Read\n",
            "  warnings.warn(str(msg))\n"
          ]
        },
        {
          "name": "stdout",
          "output_type": "stream",
          "text": [
            "250/250 [==============================] - 157s 627ms/step\n"
          ]
        }
      ],
      "source": [
        "# Build predictions\n",
        "\n",
        "predictions_cv = model_cv.predict(test_generator,\n",
        "                      verbose=1)"
      ]
    },
    {
      "cell_type": "code",
      "execution_count": null,
      "metadata": {
        "id": "2oQNKmoRGsRj"
      },
      "outputs": [],
      "source": [
        "# Transform model predictions' continuos output into binary categories\n",
        "\n",
        "bin_predictions_cv = pred_to_bin(predictions_cv)\n",
        "\n",
        "# Associate binary number to true_label\n",
        "\n",
        "control_df_cv = build_controlDF(control_df, bin_predictions_cv)"
      ]
    },
    {
      "cell_type": "code",
      "execution_count": null,
      "metadata": {
        "colab": {
          "base_uri": "https://localhost:8080/",
          "height": 206
        },
        "id": "D1Xu2RxzGzNX",
        "outputId": "15f61c12-b788-44c0-e97b-1e126e01f3d6"
      },
      "outputs": [
        {
          "data": {
            "text/html": [
              "<div>\n",
              "<style scoped>\n",
              "    .dataframe tbody tr th:only-of-type {\n",
              "        vertical-align: middle;\n",
              "    }\n",
              "\n",
              "    .dataframe tbody tr th {\n",
              "        vertical-align: top;\n",
              "    }\n",
              "\n",
              "    .dataframe thead th {\n",
              "        text-align: right;\n",
              "    }\n",
              "</style>\n",
              "<table border=\"1\" class=\"dataframe\">\n",
              "  <thead>\n",
              "    <tr style=\"text-align: right;\">\n",
              "      <th></th>\n",
              "      <th>Accuracy</th>\n",
              "      <th>F1_Score</th>\n",
              "      <th>Precision</th>\n",
              "      <th>Recall</th>\n",
              "      <th>Roc Score</th>\n",
              "    </tr>\n",
              "  </thead>\n",
              "  <tbody>\n",
              "    <tr>\n",
              "      <th>1</th>\n",
              "      <td>0.705986</td>\n",
              "      <td>0.704946</td>\n",
              "      <td>0.708933</td>\n",
              "      <td>0.705986</td>\n",
              "      <td>0.705986</td>\n",
              "    </tr>\n",
              "    <tr>\n",
              "      <th>2</th>\n",
              "      <td>0.787132</td>\n",
              "      <td>0.787031</td>\n",
              "      <td>0.787677</td>\n",
              "      <td>0.787132</td>\n",
              "      <td>0.787132</td>\n",
              "    </tr>\n",
              "    <tr>\n",
              "      <th>3</th>\n",
              "      <td>0.811620</td>\n",
              "      <td>0.809435</td>\n",
              "      <td>0.826597</td>\n",
              "      <td>0.811620</td>\n",
              "      <td>0.811620</td>\n",
              "    </tr>\n",
              "    <tr>\n",
              "      <th>cv</th>\n",
              "      <td>0.737356</td>\n",
              "      <td>0.732878</td>\n",
              "      <td>0.754418</td>\n",
              "      <td>0.737356</td>\n",
              "      <td>0.737356</td>\n",
              "    </tr>\n",
              "  </tbody>\n",
              "</table>\n",
              "</div>"
            ],
            "text/plain": [
              "    Accuracy  F1_Score  Precision    Recall  Roc Score\n",
              "1   0.705986  0.704946   0.708933  0.705986   0.705986\n",
              "2   0.787132  0.787031   0.787677  0.787132   0.787132\n",
              "3   0.811620  0.809435   0.826597  0.811620   0.811620\n",
              "cv  0.737356  0.732878   0.754418  0.737356   0.737356"
            ]
          },
          "execution_count": 131,
          "metadata": {},
          "output_type": "execute_result"
        }
      ],
      "source": [
        "# Store model 2 results to comparison frame\n",
        "\n",
        "comparison_frame.loc[\"cv\"] = evaluate_model(control_df_cv.true_bin, control_df_cv.prediction_binary)\n",
        "comparison_frame"
      ]
    }
  ],
  "metadata": {
    "colab": {
      "provenance": []
    },
    "kernelspec": {
      "display_name": "Python 3",
      "language": "python",
      "name": "python3"
    },
    "language_info": {
      "codemirror_mode": {
        "name": "ipython",
        "version": 3
      },
      "file_extension": ".py",
      "mimetype": "text/x-python",
      "name": "python",
      "nbconvert_exporter": "python",
      "pygments_lexer": "ipython3",
      "version": "3.9.10"
    },
    "orig_nbformat": 4,
    "vscode": {
      "interpreter": {
        "hash": "92b2c712316eb56e5c206670e029dda3c08d9ec3933e8da7ec35d9dab346db2c"
      }
    }
  },
  "nbformat": 4,
  "nbformat_minor": 0
}
